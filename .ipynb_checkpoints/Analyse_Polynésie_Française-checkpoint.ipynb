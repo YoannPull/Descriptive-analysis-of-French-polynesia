{
 "cells": [
  {
   "cell_type": "markdown",
   "id": "8b138724-956b-4626-bc46-61087c9aef74",
   "metadata": {},
   "source": [
    "<p style=\"color:#FFF; background:#C6BBB8; padding:12px; font-size:20px; font-style:italic; text-align:center\">\n",
    "<span style=\"width:49%;display:inline-block; text-align:left\">Pull Yoann</span>\n",
    "<span style=\"width:49%; display:inline-block; text-align:right\">01-2023</span>\n",
    "<span style=\"width:49%;display:inline-block; text-align:left\">Guiraud Paul</span> \n",
    "<span style=\"width:49%; display:inline-block; text-align:right\"> </span>\n",
    "<span style=\"font-size:35px; font-style:normal\">Analyse descriptive de l'économie de la Polynésie française</span><br>\n",
    "<span style=\"width:49%;display:inline-block; text-align:left\"> </span>"
   ]
  },
  {
   "cell_type": "markdown",
   "id": "cb695791-8f4c-4c50-969e-466d97d9f477",
   "metadata": {
    "tags": []
   },
   "source": [
    "## Introduction"
   ]
  },
  {
   "cell_type": "code",
   "execution_count": 1,
   "id": "082152b7-df3c-407e-9238-da93226054eb",
   "metadata": {
    "jupyter": {
     "source_hidden": true
    },
    "tags": []
   },
   "outputs": [],
   "source": [
    "import geopy\n",
    "import numpy as np # import du package 'numpy' avec alias 'np' \n",
    "import pandas as pd # import du package 'pandas' avec alias 'pd'\n",
    "import matplotlib as mpl\n",
    "import matplotlib.pyplot as plt\n",
    "from IPython.display import IFrame\n",
    "from ipywidgets import interact\n",
    "from random import randint\n",
    "plt.style.use('ggplot') #graph style\n",
    "pd.set_option('display.float_format', lambda x: '%.0f' % x) #change the scientific format into a \"normal\" f"
   ]
  },
  {
   "cell_type": "markdown",
   "id": "d6ea02fe-4504-4ac3-b1af-16aba272298b",
   "metadata": {},
   "source": [
    "<p style=\"font-size:15px\">\n",
    "La Polynésie francaise est une collectivité d'outre mer de la République française composée de cinq archipels. Elle est située dans le Sud de l'océan Pacifique. Comme le montre la carte ci-dessous, c'est un territoire très isolé géographiquement, le but de cette étude est de voir si il en est tout autant au niveau économique.\n",
    "\n",
    "\n",
    "    \n",
    "<center>\n",
    "  <img src=Graphics_files/PF_map.png  width=700>\n",
    "</center>"
   ]
  },
  {
   "cell_type": "markdown",
   "id": "9ac60bdf-6ee6-48c9-991f-77edd378134c",
   "metadata": {
    "tags": []
   },
   "source": [
    "\n",
    "<p style=\"font-size:15px\">\n",
    "Dans le cadre du projet d'outils informatiques, nous allons étudier et analyser les différentes parties de l'économie de la Polynésie française.<br>  \n",
    "Cette analyse descriptive a pour but de mieux comprendre le fonctionnement d'une économie particulière qu'est celle d'une île dépourvue de ressources premières importantes. Nous allons, en passant par l'analyse des importations, des exportations et du tourisme, essayer de décrire l'économie polynésienne et comprendre comment elle réagit à differents moments de crise tel que la crise du Covid.<br>\n",
    "Pour cela, nous utiliserons différentes données provenant principalement de l'I.S.P.F (Institut Statistique de la Polynésie Française) ainsi que différentes données sur le taux de change EUR/USD.<br>\n",
    "<br>\n",
    "Il est important de connaître les bases de l'économie polynésienne. La monnaie utilisée est le Franc Pacifique qui présente un taux de change fixe avec l'euros depuis Juillet 2020 : CPF/EUR = 0,0083 De plus, l'archipel possède sa propre banque centrale nommée 'Banque centrale des collectivités françaises du Pacifique' qui est cependant sous l'autorité légale de la Banque Centrale Européenne (BCE).<br> \n",
    "\n",
    "Nous allons donc commencer par étudier les importations et exportations dans le but de comprendre les differents besoins de la Polynésie ainsi que les richesses disponibles sur le territoire. L'interrogation est la suivante : les exportations permettent-elles de couvrir les importations ? Dans une seconde partie, nous allons étudier le tourisme en Polynésie française, un des acteur principal de cette économie. Enfin, nous allons voir quelle part du PIB représente les exportations et le tourisme."
   ]
  },
  {
   "cell_type": "markdown",
   "id": "41291aad-9137-4224-a01a-4b0e56e594b1",
   "metadata": {
    "tags": []
   },
   "source": [
    "## L'importation et l'exportation en Polynésie française"
   ]
  },
  {
   "cell_type": "markdown",
   "id": "de808b64-3c6a-4344-ab4e-c6a9841b0fae",
   "metadata": {},
   "source": [
    "La Polynésie française étant très limitée en termes de territoire et donc indirectement de richesses naturelles, comment fonctionne l'import/export en Polynésie ?"
   ]
  },
  {
   "cell_type": "markdown",
   "id": "7369190c-e3d2-4888-a1e2-7ce6e8f1b60d",
   "metadata": {
    "tags": []
   },
   "source": [
    "<center>\n",
    "    <img src=\"Graphics_files/BOT.png\"/>\n",
    "</center>"
   ]
  },
  {
   "cell_type": "markdown",
   "id": "fcd729b1-198c-4a9c-a084-1cc8bbe73edc",
   "metadata": {},
   "source": [
    "<p style=\"font-size:15px\">\n",
    "En traçant la balance commerciale du territoire, on s'aperçoit sans surprise qu'elle est fortement désequilibrée. En effet, chaque année ses importations représentent près de 10 fois ses exportations. Les pics de la balance sont dûs à des achats exceptionnels comme par exemple l'acquisition de deux Boeing 787-9 Dreamliner par la compagnie aérienne Air Tahiti Nui (ATN) début 2019. Ces dernières années on remarque une tendance décroissante de la courbe de la balance commerciale principalement due à une hausse des importations et une chute significative des exportations :"
   ]
  },
  {
   "cell_type": "code",
   "execution_count": 2,
   "id": "f14ea3c6-83dc-44a2-8a40-71d6e874c80b",
   "metadata": {
    "jupyter": {
     "source_hidden": true
    },
    "tags": []
   },
   "outputs": [
    {
     "data": {
      "text/html": [
       "<div>\n",
       "<style scoped>\n",
       "    .dataframe tbody tr th:only-of-type {\n",
       "        vertical-align: middle;\n",
       "    }\n",
       "\n",
       "    .dataframe tbody tr th {\n",
       "        vertical-align: top;\n",
       "    }\n",
       "\n",
       "    .dataframe thead th {\n",
       "        text-align: right;\n",
       "    }\n",
       "</style>\n",
       "<table border=\"1\" class=\"dataframe\">\n",
       "  <thead>\n",
       "    <tr style=\"text-align: right;\">\n",
       "      <th></th>\n",
       "      <th>Année</th>\n",
       "      <th>2022</th>\n",
       "      <th>2021</th>\n",
       "      <th>2020</th>\n",
       "      <th>2019</th>\n",
       "      <th>2018</th>\n",
       "      <th>2017</th>\n",
       "      <th>2016</th>\n",
       "      <th>2015</th>\n",
       "      <th>2014</th>\n",
       "    </tr>\n",
       "  </thead>\n",
       "  <tbody>\n",
       "    <tr>\n",
       "      <th>Exportations_totales</th>\n",
       "      <td></td>\n",
       "      <td>13231653808</td>\n",
       "      <td>12067672056</td>\n",
       "      <td>7424583731</td>\n",
       "      <td>14249366039</td>\n",
       "      <td>14899212059</td>\n",
       "      <td>16150837666</td>\n",
       "      <td>18797842312</td>\n",
       "      <td>14101741745</td>\n",
       "      <td>15305555369</td>\n",
       "    </tr>\n",
       "  </tbody>\n",
       "</table>\n",
       "</div>"
      ],
      "text/plain": [
       "                     Année        2022        2021       2020        2019  \\\n",
       "Exportations_totales       13231653808 12067672056 7424583731 14249366039   \n",
       "\n",
       "                            2018        2017        2016        2015  \\\n",
       "Exportations_totales 14899212059 16150837666 18797842312 14101741745   \n",
       "\n",
       "                            2014  \n",
       "Exportations_totales 15305555369  "
      ]
     },
     "metadata": {},
     "output_type": "display_data"
    }
   ],
   "source": [
    "import pandas as pd\n",
    "import matplotlib.pyplot as plt\n",
    "\n",
    "#load data\n",
    "produit_exp_cleaned = pd.read_csv(\"Cleaned_Data/produit_exp_cleaned.csv\")\n",
    "\n",
    "## Data cleaning and display dataframe\n",
    "produit_exp_cleaned.drop('Unnamed: 0', axis=1, inplace=True)\n",
    "Export_totale_an = pd.DataFrame(produit_exp_cleaned.iloc[95,]).head(10).T\n",
    "Export_totale_an.iloc[0,0] = ' '\n",
    "Export_totale_an.rename(columns={'Produit': 'Année'}, index={95: 'Exportations_totales'}, inplace=True)\n",
    "display(Export_totale_an)"
   ]
  },
  {
   "cell_type": "markdown",
   "id": "37f5f783-1be2-42a6-9077-a9b9fc2a5782",
   "metadata": {},
   "source": [
    "<center>\n",
    "  <img src=Graphics_files/Evolution_exportation_year.png  width=650>\n",
    "</center>"
   ]
  },
  {
   "cell_type": "markdown",
   "id": "2bf1bd5c-28ec-4373-9a4a-758329e93913",
   "metadata": {
    "tags": []
   },
   "source": [
    "<p style=\"font-size:15px\">\n",
    "En 2020, les exportations enregistrent un montant de 7,5 milliards de F CFP contre 15 milliards de F CFP en moyenne annuelle sur la dernière décennie.<br> Cette baisse des exportations des produit locaux est le résultat direct de trois mois de fermeture des frontières et de suspension des vols, responsable d'une perte de 6,5 milliards de F CFP de recettes par rapport à 2019."
   ]
  },
  {
   "cell_type": "code",
   "execution_count": 3,
   "id": "849da656-32f6-458b-acea-0abc6fe40982",
   "metadata": {
    "jupyter": {
     "source_hidden": true
    },
    "tags": []
   },
   "outputs": [
    {
     "data": {
      "text/html": [
       "<div>\n",
       "<style scoped>\n",
       "    .dataframe tbody tr th:only-of-type {\n",
       "        vertical-align: middle;\n",
       "    }\n",
       "\n",
       "    .dataframe tbody tr th {\n",
       "        vertical-align: top;\n",
       "    }\n",
       "\n",
       "    .dataframe thead th {\n",
       "        text-align: right;\n",
       "    }\n",
       "</style>\n",
       "<table border=\"1\" class=\"dataframe\">\n",
       "  <thead>\n",
       "    <tr style=\"text-align: right;\">\n",
       "      <th></th>\n",
       "      <th>Année</th>\n",
       "      <th>2022</th>\n",
       "      <th>2021</th>\n",
       "      <th>2020</th>\n",
       "      <th>2019</th>\n",
       "      <th>2018</th>\n",
       "      <th>2017</th>\n",
       "      <th>2016</th>\n",
       "      <th>2015</th>\n",
       "      <th>2014</th>\n",
       "    </tr>\n",
       "  </thead>\n",
       "  <tbody>\n",
       "    <tr>\n",
       "      <th>Importations totales en F CFP</th>\n",
       "      <td></td>\n",
       "      <td>228797795700</td>\n",
       "      <td>200058379897</td>\n",
       "      <td>177103672020</td>\n",
       "      <td>224218721792</td>\n",
       "      <td>226861489694</td>\n",
       "      <td>172770670995</td>\n",
       "      <td>160988500057</td>\n",
       "      <td>164707223137</td>\n",
       "      <td>158495648957</td>\n",
       "    </tr>\n",
       "  </tbody>\n",
       "</table>\n",
       "</div>"
      ],
      "text/plain": [
       "                              Année          2022          2021          2020  \\\n",
       "Importations totales en F CFP        228797795700  200058379897  177103672020   \n",
       "\n",
       "                                       2019          2018          2017  \\\n",
       "Importations totales en F CFP  224218721792  226861489694  172770670995   \n",
       "\n",
       "                                       2016          2015          2014  \n",
       "Importations totales en F CFP  160988500057  164707223137  158495648957  "
      ]
     },
     "execution_count": 3,
     "metadata": {},
     "output_type": "execute_result"
    }
   ],
   "source": [
    "#load data\n",
    "df_prod_imp = pd.read_excel(\"Data/produit_imp.xlsx\")\n",
    "\n",
    "## Data cleaning and display dataframe\n",
    "df_prod_imp = pd.DataFrame(df_prod_imp.iloc[98,]).head(10).T\n",
    "df_prod_imp.iloc[0,0] = ' '\n",
    "df_prod_imp.rename(columns={'Unnamed: 0': 'Année'}, index={98: 'Importations totales en F CFP'}, inplace=True)\n",
    "df_prod_imp"
   ]
  },
  {
   "cell_type": "markdown",
   "id": "2a76f337-8651-45d8-b8c3-a34bcf998b97",
   "metadata": {},
   "source": [
    "<center>\n",
    "  <img src=Graphics_files/Evolution_importation_year.png  width=650>\n",
    "</center>"
   ]
  },
  {
   "cell_type": "markdown",
   "id": "332c3d52-7dd9-4ae3-9398-1c13b653339e",
   "metadata": {},
   "source": [
    "<p style=\"font-size:15px\">\n",
    "- Les importations ont quand à elles diminuées de 35,0 milliards de F CFP entre 2019 et 2020, pour s’établir à 168,2 milliards de F CFP. La contraction entre ces deux années est d'autant plus marquée par les achats exceptionnels réalisés début 2019.\n"
   ]
  },
  {
   "cell_type": "code",
   "execution_count": 4,
   "id": "f5dc2d6f-e857-4d0e-846a-6f36c8079fe0",
   "metadata": {
    "jupyter": {
     "source_hidden": true
    },
    "tags": []
   },
   "outputs": [
    {
     "data": {
      "application/vnd.jupyter.widget-view+json": {
       "model_id": "aa9f13c15da14e9d956945bd962682d4",
       "version_major": 2,
       "version_minor": 0
      },
      "text/plain": [
       "interactive(children=(IntSlider(value=5, description='top', max=95, min=1), Dropdown(description='year', optio…"
      ]
     },
     "metadata": {},
     "output_type": "display_data"
    }
   ],
   "source": [
    "#Load Data\n",
    "df_prod_exp = pd.read_csv('Cleaned_Data/produit_exp_cleaned.csv')\n",
    "df_prod_exp.drop('Unnamed: 0', axis=1, inplace=True)\n",
    "\n",
    "# function that creates the row of the (Total - top_n) for the pie chart.\n",
    "\n",
    "def prod_exp_sort_by(year):\n",
    "    ignore = ['Produit']\n",
    "    df_function = df_prod_exp.set_index(ignore)\n",
    "    return (df_function.sort_values(year, ascending = False)) #increasing order\n",
    "\n",
    "def top_prod(n,pie_prod_exp):\n",
    "    if n >= len(pie_prod_exp):\n",
    "        return( 'Error, there is only ' + str(len(df_prod_exp)) + ' exported products')\n",
    "    else:\n",
    "        pie_prod_exp.loc['Autres'] = list(pie_prod_exp.loc['Grand Total'] -  pie_prod_exp[1:n].sum(axis = 0))\n",
    "\n",
    "# pie chart of the top_n element of a given year\n",
    "@interact(top = (1, len(df_prod_exp) - 1), year = list(df_prod_exp.set_index(['Produit']).columns))\n",
    "\n",
    "def pie_chart_exp(top = 5, year = '2022'):\n",
    "    pie_prod_exp = prod_exp_sort_by(year)\n",
    "    top_prod(top + 1,pie_prod_exp)\n",
    "    row_pie = [i for i in range(1,top + 1)] #select the element to show into the pie chart\n",
    "    row_pie.append(len(pie_prod_exp) - 1)\n",
    "    #pie chart code\n",
    "    explode = [0.03] * (top + 1) #space beteween each part of the pie chart\n",
    "    pie_prod_exp.iloc[row_pie].plot.pie(y = year, subplots = True,figsize = (8,8)\n",
    "                               ,autopct='%.1f%%', labeldistance = None,  explode = explode, shadow = True)\n",
    "    plt.title(\"top \" + str(top) + \" des produits exportés\" \" sur l'année \" + year\n",
    "              , fontweight = \"bold\")\n",
    "    plt.legend(bbox_to_anchor = (1,0.5),loc = 'center left',fontsize = 10)\n"
   ]
  },
  {
   "cell_type": "markdown",
   "id": "957c952c-6ed9-4e93-82f0-10b88fb058fa",
   "metadata": {},
   "source": [
    "<p style=\"font-size:15px\">\n",
    "Ci-dessus, un graphique représentant les différents produits exportés par la Polynésie française.<br>\n",
    "    <br>\n",
    "- Chaque année, entre 30 % et 40 % des exportations (en F CFP) viennent de la production de perles et de métaux précieux, notamment de la perle de Tahiti.\n",
    "<br>\n",
    "    <br>\n",
    "- En second viennent les produits de la pêche (Poissons, crustacés...). <br>\n",
    "    <br>\n",
    "- La troisième composante de l'exportation est la navigation aérienne, prenant en compte les déplacements touristiques.<br>\n",
    "    <br>\n",
    "L'exportation polynésienne est donc principalement basée sur les produits de la mer, chaque année environ 50% de la valeur d'exportation annuelle vient des produits de la mer.\n"
   ]
  },
  {
   "cell_type": "code",
   "execution_count": 5,
   "id": "2ae6b9f1-37e2-4898-aa32-06d5f891910b",
   "metadata": {
    "jupyter": {
     "source_hidden": true
    },
    "tags": []
   },
   "outputs": [
    {
     "data": {
      "application/vnd.jupyter.widget-view+json": {
       "model_id": "a5f4f8ed1a5c4af38b2e85e24af834d5",
       "version_major": 2,
       "version_minor": 0
      },
      "text/plain": [
       "interactive(children=(IntSlider(value=5, description='top', max=162, min=1), Dropdown(description='year', inde…"
      ]
     },
     "metadata": {},
     "output_type": "display_data"
    }
   ],
   "source": [
    "#Clean the dataframe\n",
    "\n",
    "df_exp_by_count = pd.read_excel(\"Data/Exportations_par_pays.xlsx\")\n",
    "df_exp_by_count = df_exp_by_count.drop(['Unnamed: 0', 'Unnamed: 1'], axis = 1) #drop the first column\n",
    "header = [['Provenance']+[i for i in range(2022,1992,-1) for rep in range(2)],\n",
    "          [''] + ['Valeur','Poids'] * (len(list(df_exp_by_count.columns))//2)] #creating headers\n",
    "df_exp_by_count.columns = header\n",
    "\n",
    "df_exp_by_count = df_exp_by_count.drop(0, axis= 0) #drop the first row\n",
    "\n",
    "ignore = ['Provenance']\n",
    "df_exp_by_count = (df_exp_by_count.set_index(ignore, append=True)\n",
    "        .astype(float)\n",
    "        .reset_index(ignore)\n",
    "       )    #change data types except the first one\n",
    "df_exp_by_count.iloc[-1:,0] = 'Total' \n",
    "\n",
    "\n",
    "\n",
    "#sort data frame for the YEAR\n",
    "def sort_top_client(year):\n",
    "     #sort value by increasing order\n",
    "    client_exp_val = df_exp_by_count.loc[1:,list(df_exp_by_count.columns[1::2])]\n",
    "    client_exp_val = client_exp_val.droplevel(1,axis=1)\n",
    "    client_exp_val.insert(0, 'Provenance', list(df_exp_by_count['Provenance']))\n",
    "    client_exp_val = client_exp_val.sort_values(year,ascending = False)\n",
    "    return(client_exp_val)\n",
    "\n",
    "\n",
    "\n",
    "#graph function\n",
    "@interact(top = (1, len(df_exp_by_count) - 1),\n",
    "          year = [i for i in range(df_exp_by_count.set_index(['Provenance']).columns.min()[0] + 1,\n",
    "               df_exp_by_count.set_index(['Provenance']).columns.max()[0] + 1)])\n",
    "    \n",
    "def plot_top_client(top=5,year =2022):    \n",
    "    #colors vector for the bar\n",
    "    client_exp_val = sort_top_client(year)\n",
    "    colors = []\n",
    "    for i in range(len(list(client_exp_val['Provenance']))):\n",
    "        colors.append('#%06X' % randint(0, 0xFFFFFF))\n",
    "    \n",
    "\n",
    "    client_exp_val_plot = client_exp_val.iloc[1:top + 1,0:-1].plot.barh(x = 'Provenance', y = year, \n",
    "                                                          color = colors,\n",
    "                                                          edgecolor='black',figsize=(8,5))\n",
    "    plt.legend().remove()\n",
    "    plt.title(\"top \" + str(top) + \" des clients sur l'année \" + str(year)\n",
    "              , fontweight = \"bold\")\n",
    "    plt.xlabel('Valeur en Francs Pacifique')  \n",
    "    plt.show()\n",
    "\n"
   ]
  },
  {
   "cell_type": "markdown",
   "id": "b0e1dc04-b5ee-4826-b794-5ecbb16f64b1",
   "metadata": {},
   "source": [
    "<p style=\"font-size:15px\">\n",
    "Ci-dessus, les principaux clients de la Polynésie. En réalité, La moitié des exportations polynésiennes sont françaises, japonaises ou américaines. En reprenant l'exemple de l'année 2020, les principaux clients de la Polynésie sont les États-Unis (achetant principalement les produits de la pêche), la France (clients des fruits, vanille ou encore huile de monoï), et enfin le Japon et Hong-Kong qui à eux deux représentent une grande partie de la vente de perle."
   ]
  },
  {
   "cell_type": "code",
   "execution_count": 6,
   "id": "ba254e86-41e6-4f0c-9047-28c2670992f4",
   "metadata": {
    "jupyter": {
     "source_hidden": true
    },
    "tags": []
   },
   "outputs": [
    {
     "data": {
      "application/vnd.jupyter.widget-view+json": {
       "model_id": "a6d6beebb50646c8b892a16da122eada",
       "version_major": 2,
       "version_minor": 0
      },
      "text/plain": [
       "interactive(children=(IntSlider(value=5, description='top', max=250, min=1), Dropdown(description='year', inde…"
      ]
     },
     "metadata": {},
     "output_type": "display_data"
    }
   ],
   "source": [
    "#Clean the dataframe\n",
    "df_imp_by_count = pd.read_excel(\"Data/Importations_par_pays.xlsx\")\n",
    "df_imp_by_count = df_imp_by_count.drop(['Unnamed: 0', 'Unnamed: 1'], axis = 1) #drop the first column\n",
    "header = [['Provenance']+[i for i in range(2022,1992,-1) for rep in range(2)],\n",
    "          [''] + ['Valeur','Poids'] * (len(list(df_imp_by_count.columns))//2)] #creating headers\n",
    "df_imp_by_count.columns = header\n",
    "\n",
    "df_imp_by_count = df_imp_by_count.drop(0, axis= 0) #drop the first row\n",
    "\n",
    "ignore = ['Provenance']\n",
    "df_imp_by_count = (df_imp_by_count.set_index(ignore, append=True)\n",
    "        .astype(float)\n",
    "        .reset_index(ignore)\n",
    "       )    #change data types except the first one\n",
    "df_imp_by_count.iloc[-1:,0] = 'Total' \n",
    "\n",
    "\n",
    "#sort data frame for the YEAR\n",
    "def sort_top_fourn(year):\n",
    "     #sort value by increasing order\n",
    "    fourn_imp_val = df_imp_by_count.loc[1:,list(df_imp_by_count.columns[1::2])]\n",
    "    fourn_imp_val = fourn_imp_val.droplevel(1,axis=1)\n",
    "    fourn_imp_val.insert(0, 'Provenance', list(df_imp_by_count['Provenance']))\n",
    "    fourn_imp_val = fourn_imp_val.sort_values(year,ascending = False)\n",
    "    return(fourn_imp_val)\n",
    "\n",
    "\n",
    "\n",
    "#graph function\n",
    "@interact(top = (1, len(df_imp_by_count) - 1),\n",
    "          year = [i for i in range(df_imp_by_count.set_index(['Provenance']).columns.min()[0] + 1,\n",
    "               df_imp_by_count.set_index(['Provenance']).columns.max()[0] + 1)])\n",
    "    \n",
    "def plot_top_fourn(top=5,year =2022):    \n",
    "    #colors vector for the bar\n",
    "    fourn_imp_val = sort_top_fourn(year)\n",
    "    colors = []\n",
    "    for i in range(len(list(fourn_imp_val['Provenance']))):\n",
    "        colors.append('#%06X' % randint(0, 0xFFFFFF))\n",
    "    \n",
    "\n",
    "    fourn_imp_val_plot = fourn_imp_val.iloc[1:top + 1,0:-1].plot.barh(x = 'Provenance', y = year, \n",
    "                                                           edgecolor='black', \n",
    "                                                           color = colors,figsize=(8,5))\n",
    "    plt.legend().remove()\n",
    "    plt.title(\"top \" + str(top) + \" des fournisseurs sur l'année \" + str(year)\n",
    "              , fontweight = \"bold\")\n",
    "    plt.xlabel('Valeur en Francs Pacifique')\n",
    "\n",
    "    plt.show()"
   ]
  },
  {
   "cell_type": "markdown",
   "id": "00e9e0c8-8bf6-418b-a8f3-7d751fce7ee2",
   "metadata": {},
   "source": [
    "<p style=\"font-size:15px\">\n",
    "En ce qui concerne les importations, les principaux fournisseurs sont français, chinois ou américains.<br>\n",
    "En 2020 : <br>\n",
    "    <br>\n",
    "- Le premier partenaire commercial de la Polynésie française (25 % de ses importations) reste la France qui lui fournit notamment des produits alimentaires, des équipements aéronautiques, des composants électroniques et des produits pharmaceutiques.<br>\n",
    "    <br>\n",
    "- Les autres pays de l’Union européenne représentent environ 16 % des importations, avec des produits pharmaceutiques mais aussi des produits automobiles et alimentaires.<br>\n",
    "    <br>\n",
    "- 14 % des importations proviennent de la Chine, principalement composées de produits électriques ou électroniques (electroménager) et de produits textiles.\n",
    "    <br>\n",
    "- Environ 21% de l'importation vient des autres pays d'Asie avec notamment des hydrocarbures (Corée du Sud) ou encore des voitures (Thaïlande et Japon).<br>\n",
    "    <br>\n",
    "- Les États-Unis représentent à peu près 10% des importations (produits alimentaires, produits aéronautiques,...)<br>\n",
    "    <br>\n",
    "-Enfin, le reste de la zone pacifique (Australie, Nouvelle-Zélande, ...) représente 9% des importations, composées de produits alimentaires notamment.\n",
    "<br>\n",
    "<br>\n",
    "En comparant avec les années précédentes, on remarque que la baisse des importations de 2020 n'a pas réellement affecté leur provenance géographique."
   ]
  },
  {
   "cell_type": "markdown",
   "id": "caf9f857-6187-4d1f-b382-7418e4106313",
   "metadata": {
    "tags": []
   },
   "source": [
    "## Le tourisme, principale source de revenu ?"
   ]
  },
  {
   "cell_type": "markdown",
   "id": "3547a991-7316-4f32-8bea-bb9a710113fd",
   "metadata": {},
   "source": [
    "<p style=\"font-size:15px\">\n",
    "Le tourisme paraît comme une des ressources principales du territoire. Nous allons essayer de comprendre, aux travers des données mises à disposition par l'ISPF, qui voyage en Polynésie française. <br>\n",
    "Comment la quantité de touristes évolue-t-elle au cours des dernières années ? Et enfin, comment ces variations affectent-elles la Polynésie et son économie ?"
   ]
  },
  {
   "cell_type": "code",
   "execution_count": 7,
   "id": "bf88a21b-3136-4996-8c60-7ff27f57a098",
   "metadata": {
    "jupyter": {
     "source_hidden": true
    },
    "tags": []
   },
   "outputs": [
    {
     "data": {
      "text/html": [
       "<div>\n",
       "<style scoped>\n",
       "    .dataframe tbody tr th:only-of-type {\n",
       "        vertical-align: middle;\n",
       "    }\n",
       "\n",
       "    .dataframe tbody tr th {\n",
       "        vertical-align: top;\n",
       "    }\n",
       "\n",
       "    .dataframe thead th {\n",
       "        text-align: right;\n",
       "    }\n",
       "</style>\n",
       "<table border=\"1\" class=\"dataframe\">\n",
       "  <thead>\n",
       "    <tr style=\"text-align: right;\">\n",
       "      <th></th>\n",
       "      <th>2007 Total</th>\n",
       "      <th>2008 Total</th>\n",
       "      <th>2009 Total</th>\n",
       "      <th>2010 Total</th>\n",
       "      <th>2011 Total</th>\n",
       "      <th>2012 Total</th>\n",
       "      <th>2013 Total</th>\n",
       "      <th>2014 Total</th>\n",
       "      <th>2015 Total</th>\n",
       "      <th>2016 Total</th>\n",
       "      <th>2017 Total</th>\n",
       "      <th>2018 Total</th>\n",
       "      <th>2019 Total</th>\n",
       "      <th>2020 Total</th>\n",
       "      <th>2021 Total</th>\n",
       "      <th>2022 Total</th>\n",
       "    </tr>\n",
       "  </thead>\n",
       "  <tbody>\n",
       "    <tr>\n",
       "      <th>Nombre de touristes</th>\n",
       "      <td>218241</td>\n",
       "      <td>196496</td>\n",
       "      <td>160447</td>\n",
       "      <td>153919</td>\n",
       "      <td>162776</td>\n",
       "      <td>168978</td>\n",
       "      <td>164393</td>\n",
       "      <td>180602</td>\n",
       "      <td>183831</td>\n",
       "      <td>192495</td>\n",
       "      <td>198959</td>\n",
       "      <td>216268</td>\n",
       "      <td>236642</td>\n",
       "      <td>77017</td>\n",
       "      <td>82546</td>\n",
       "      <td>176318</td>\n",
       "    </tr>\n",
       "  </tbody>\n",
       "</table>\n",
       "</div>"
      ],
      "text/plain": [
       "                    2007 Total 2008 Total 2009 Total 2010 Total 2011 Total  \\\n",
       "Nombre de touristes     218241     196496     160447     153919     162776   \n",
       "\n",
       "                    2012 Total 2013 Total 2014 Total 2015 Total 2016 Total  \\\n",
       "Nombre de touristes     168978     164393     180602     183831     192495   \n",
       "\n",
       "                    2017 Total 2018 Total 2019 Total 2020 Total 2021 Total  \\\n",
       "Nombre de touristes     198959     216268     236642      77017      82546   \n",
       "\n",
       "                    2022 Total  \n",
       "Nombre de touristes     176318  "
      ]
     },
     "metadata": {},
     "output_type": "display_data"
    }
   ],
   "source": [
    "#loading data\n",
    "PATH = \"Cleaned_Data/Origin_tourists_per_continent.csv\" #data file\n",
    "Tourism = pd.read_csv(PATH)\n",
    "\n",
    "#display dataframe\n",
    "Tour=pd.DataFrame(Tourism.T[9][1:]).T\n",
    "Tour.rename(index = {9:'Nombre de touristes'}, inplace = True)\n",
    "Tour.drop('continent', axis = 1, inplace = True)\n",
    "display(Tour)"
   ]
  },
  {
   "cell_type": "markdown",
   "id": "96131133-17f3-42c3-8bf0-f9118e1eff4f",
   "metadata": {},
   "source": [
    "<center>\n",
    "  <img src=Graphics_files/Evolution_tourisme.png  width=650>\n",
    "</center>"
   ]
  },
  {
   "cell_type": "markdown",
   "id": "867a1d25-5ad5-4e74-95ae-cde8587dd727",
   "metadata": {
    "tags": []
   },
   "source": [
    "<p style=\"font-size:15px\">\n",
    "    \n",
    "La première question qu'on peut se poser est qui sont les principaux touristes de la Polynésie française ? Pour répondre à cela, nous pouvons utiliser les chiffres détaillés sur la provenance de touristes par pays. On peut ainsi obtenir, après transformation des données, les graphiques suivants :"
   ]
  },
  {
   "cell_type": "markdown",
   "id": "f2b029b4-3356-4f14-8d0f-7700e3c30620",
   "metadata": {},
   "source": [
    "<center>\n",
    "  <img src=Graphics_files/Tourist_Origins_Raw.png  width=1700>\n",
    "</center>"
   ]
  },
  {
   "cell_type": "markdown",
   "id": "126d87fd-529c-4418-ad06-be0de4addeb4",
   "metadata": {},
   "source": [
    "<p style=\"font-size:15px\">\n",
    "Ce premier graphique représente en détails le nombre et l'origine des touristes venant en Polynésie française de 2007 à nos jours. A partir de 2008, on remarque une baisse du nombre de touristes (quelque soit leur nationalité), cette baisse s'accentue d'avantage en 2009 avant d'augmenter linéairement jusqu'en 2020. En effet, l'année 2020 étant marquée par la crise du Covid-19 provoquant une baisse considérable du tourisme, passant de 236 642 touristes en 2019 à 77 017 en 2020. On peut voir que tous les pays émetteurs ont été touchés."
   ]
  },
  {
   "cell_type": "markdown",
   "id": "1691fd47-8f0f-4680-95e3-6c3d4877186f",
   "metadata": {},
   "source": [
    "<center> \n",
    "  <img src=Graphics_files/Tourist_Origins_Density.png  width=1500>\n",
    "</center>"
   ]
  },
  {
   "cell_type": "markdown",
   "id": "70e7cb4a-37a3-4155-b6cf-f4751cd19552",
   "metadata": {},
   "source": [
    "<p style=\"font-size:15px\">\n",
    "Le graphique ci-dessus représente la répartition des différentes origines des touristes venant en Polynésie française de 2007 à nos jours. De 2007 à 2019, les proportions des différentes provenances des touristes restent chacune assez stable avec une faible augmentation de la proportion de touristes français et une large majorité de touristes d’Amérique du Nord et principalement des USA (voir carte interactive). De plus, ce graphique nous permet de visualiser les effets du Covid sur le tourisme. A partir de 2020 les touristes viennent principalement d’Amérique du Nord, notamment 32 286 personnes venant des USA, ainsi que de France avec 28 112 voyageurs français contre respectivement 88 782 et 60 382 en 2019.\n",
    " <br>\n",
    "    <br>\n",
    "En réalité, on a vu au-dessus que le nombre de touristes a largement baissé entre 2019 et 2020. Cependant, contrairement à d’autres pays/continents comme l’Asie ou l’Amérique du Sud, le nombre de touristes venant de France et des Etats Unis a proportionnellement moins diminué. En 2022, la reprise des activités touristiques en Polynésie se confirme. En effet, on enregistre un total de 176 318 touristes au cours de l’année contre 82 546 en 2021 grâce notamment à un regain de l’intérêt pour le territoire de la France (environ 33 000 en 2021 contre 62 000 en 2022) et de l’Amérique du Nord (42 000 en 2019 contre 79 000 en 2022). En particulier, le nombre de touristes en provenance de la France réalise un record cette année avec environ 62 000 touristes, réalisant ainsi une petite augmentation par rapport à 2019, où l’ISPF a enregistré environ 60 000 touristes.<br>\n",
    "De plus, la clientèle du Pacifique, inexistante en 2021 retrouve de l’intérêt pour la Polynésie avec des chiffres se rapprochant de ceux de 2019. Cette augmentation est notamment expliquée pas la reprise des trajets aériens organisées par les compagnies Air New Zealand ou encore la création d’Air Rarotonga en Août dernier."
   ]
  },
  {
   "cell_type": "markdown",
   "id": "4e46dcf0-1cc9-4224-b577-4bbcab2230d2",
   "metadata": {},
   "source": [
    "<p style=\"font-size:15px\">\n",
    "Pour plus de détails sur la provenance des touristes, voici une carte indiquant le nombre de touristes en provenance du pays sélectionné."
   ]
  },
  {
   "cell_type": "code",
   "execution_count": 8,
   "id": "f01bb3a2-a658-4720-9f91-ec8ba2382649",
   "metadata": {
    "tags": []
   },
   "outputs": [
    {
     "data": {
      "application/vnd.jupyter.widget-view+json": {
       "model_id": "d9efb0064fd84c33b2b490d0e72ec51f",
       "version_major": 2,
       "version_minor": 0
      },
      "text/plain": [
       "interactive(children=(IntSlider(value=2014, description='n', max=2022, min=2007), Output()), _dom_classes=('wi…"
      ]
     },
     "metadata": {},
     "output_type": "display_data"
    }
   ],
   "source": [
    "import pandas as pd\n",
    "from import_function.fonction import Carte_tourisme\n",
    "\n",
    "PATH = \"Cleaned_Data/df_map_tourists.csv\" #data file\n",
    "df = pd.read_csv(PATH)\n",
    "\n",
    "## Data cleaning\n",
    "df.drop('Unnamed: 0', axis=1, inplace=True)\n",
    "\n",
    "Carte_tourisme(df)"
   ]
  },
  {
   "cell_type": "markdown",
   "id": "71503f89-4444-4ce0-a7a1-3b78f3e5305f",
   "metadata": {
    "tags": []
   },
   "source": [
    "## Leur contribution au PIB"
   ]
  },
  {
   "cell_type": "markdown",
   "id": "9f4a46f3-31d1-47d0-973e-efb5aa386780",
   "metadata": {},
   "source": [
    "<p style=\"font-size:15px\">\n",
    "La Polynésie française reste un territoire isolé économiquement et dépendant de nombreux facteurs extérieurs. L'économie du pays fût très touchée pendant les crises qu'elle a dû traverser. Comme le montre le graphique ci-dessous, le PIB de la Polynésie française ne peut pas être dépendant du tourisme et des exportations. En 2013, (données les plus récentes sur le site de l'ISPF) la consommation des touristes représente 8.1% du PIB et les exportations 2.4 %.  <br>\n",
    "    <br>\n",
    "Chaque année, environ 10 % du PIB est dû au tourisme, c'est le plus gros affluant de l'économie polynésienne mais cela ne permet pas de maintenir une balance des paiements positive. De plus, on a pu observer ces dernières années que le tourisme peut fluctuer, notamment avec les crises sanitaires, dans ce contexte le PIB du territoire perd 10 points (-10% base 2005), baisse principalement due à l'arrêt du tourisme.\n",
    "  <br>\n",
    "<br>\n",
    "La balance des paiements de la Polynésie est bien trop déséquilibrée pour que le territoire soit indépendant. C’est pour cela que l’Etat français dépense plusieurs milliards de francs Pacifique. Chaque année, il publie les dépenses réalisées en Polynésie. Par exemple en 2019 l’Etat a dépensé 186,3 milliards F CFP (soit 27% du PIB sur cette année) contre près de 200 milliards F CFP en 2020 (32% du PIB).\n"
   ]
  },
  {
   "cell_type": "code",
   "execution_count": 9,
   "id": "bc57e621-186c-4e73-b363-3f3254a15aa1",
   "metadata": {
    "jupyter": {
     "source_hidden": true
    },
    "tags": []
   },
   "outputs": [
    {
     "data": {
      "application/vnd.jupyter.widget-view+json": {
       "model_id": "e0b1db4aa8114c9a84ac3de8e0207c17",
       "version_major": 2,
       "version_minor": 0
      },
      "text/plain": [
       "interactive(children=(Dropdown(description='year', index=4, options=(2005, 2007, 2009, 2011, 2013), value=2013…"
      ]
     },
     "metadata": {},
     "output_type": "display_data"
    }
   ],
   "source": [
    "pib_tour_exp = pd.read_csv('Cleaned_Data/PIB_EXP_TOUR.csv')\n",
    "pib_tour_exp.drop('Unnamed: 0', axis=1, inplace=True)\n",
    "col = []\n",
    "for i in range(0,len(pib_tour_exp.iloc[:,1])):\n",
    "     col.append(int(pib_tour_exp.iloc[i,1].replace(' ','')) * 1000000)\n",
    "pib_tour_exp['Autres'] = col - (pib_tour_exp['Valeur Exports'] + pib_tour_exp['Tourisme'])\n",
    "pib_tour_exp = pib_tour_exp.set_index('Date').T\n",
    "\n",
    "\n",
    "# pie chart of the top_n element of a given year\n",
    "@interact(year = list(pib_tour_exp.columns))\n",
    "\n",
    "def pie_chart_exp(year = 2013):\n",
    "    colors = (\"salmon\", \"orange\", \"lightblue\")\n",
    "    row_pie = [i for i in range(1,pib_tour_exp.shape[0])] #select the element to show into the pie chart\n",
    "    #pie chart code\n",
    "    explode = [0.2] * len(row_pie) #space beteween each part of the pie chart\n",
    "    pib_tour_exp.iloc[row_pie].plot.pie(y = year, subplots = True,figsize = (7,7)\n",
    "                               ,autopct='%.1f%%', explode = explode,\n",
    "                                labeldistance = None, shadow = True,\n",
    "                                       colors = colors)\n",
    "    plt.title(\"Part du tourisme et des exporations dans le PIB en \" + str(year)\n",
    "             , fontweight = \"bold\", fontsize= 14)\n",
    "    plt.legend(bbox_to_anchor = (1,0.5),loc = 'center left',fontsize = 10)\n",
    "    plt.show()"
   ]
  },
  {
   "cell_type": "markdown",
   "id": "f3cb821b-23ea-4c95-9a01-44826b9f1581",
   "metadata": {
    "tags": []
   },
   "source": [
    "## Sources : "
   ]
  },
  {
   "cell_type": "markdown",
   "id": "7ae30d1b-e0f9-4570-b738-e2603dc5a01a",
   "metadata": {},
   "source": [
    "- econ1016.csv (https://www.data.gouv.fr/fr/datasets/indicateurs-economiques-de-la-polynesie-francaise/#resources)  \n",
    "Fichier rassemblant les principaux indicateurs économiques de la Polynésie française.\n",
    "- Consommation_tourisme.xlsx (https://www.ispf.pf/chiffres)    \n",
    "Fichier présentant la consommation des touristes par années et provenance en Polynésie française.\n",
    "- PIB.xlsx (https://www.ispf.pf/chiffres)  \n",
    "Fichier détaillant le Produit Intérieur Brut (nominal, réel,…) de la Polynésie française.\n",
    "- Exportations_par_pays.xlsx (https://www.ispf.pf/chiffres)  \n",
    "Détails sur les pays clients (exportations).\n",
    "- Importations_par_pays .xlsx (https://www.ispf.pf/chiffres)  \n",
    "Détails sur les pays fournisseurs (importations).\n",
    "- Origin_tourists.xlsx (https://www.ispf.pf/chiffres)  \n",
    "Détails  sur la provenance et le nombre de touriste par continents.\n",
    "\n",
    "- Produit_imp.xlsx (https://www.ispf.pf/chiffres)  \n",
    "Fichier détaillant les types de produits importés.\n",
    "- Produit_exp.xlsx (https://www.ispf.pf/chiffres)  \n",
    "Fichier détaillant les types de produits exportés\n",
    "- Provenance_tourisme.xlsx (https://www.ispf.pf/chiffres)  \n",
    "Détails  sur la provenance et le nombre de touriste par pays.\n",
    "\n",
    "### Plus de détails sur : \n",
    "\n",
    "\n",
    "https://www.ieom.fr/IMG/pdf/balance_des_paiements_pf_2020-2.pdf\n",
    "\n",
    "https://fr.wikipedia.org/wiki/%C3%89conomie_de_la_Polyn%C3%A9sie_fran%C3%A7aise\n",
    "\n",
    "https://www.ispf.pf/publication/1358\n",
    "\n",
    "https://www.ispf.pf/publication/1357"
   ]
  }
 ],
 "metadata": {
  "kernelspec": {
   "display_name": "Python 3",
   "language": "python",
   "name": "python3"
  },
  "language_info": {
   "codemirror_mode": {
    "name": "ipython",
    "version": 3
   },
   "file_extension": ".py",
   "mimetype": "text/x-python",
   "name": "python",
   "nbconvert_exporter": "python",
   "pygments_lexer": "ipython3",
   "version": "3.9.12"
  }
 },
 "nbformat": 4,
 "nbformat_minor": 5
}

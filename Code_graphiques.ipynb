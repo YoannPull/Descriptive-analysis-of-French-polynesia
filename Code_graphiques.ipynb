{
 "cells": [
  {
   "cell_type": "markdown",
   "id": "173453cd-0987-499f-9d55-da678c1197bd",
   "metadata": {
    "tags": []
   },
   "source": [
    "# Fichier contenant le codes de tous les graphiques et cartes utilisés dans le fichier markdown"
   ]
  },
  {
   "cell_type": "code",
   "execution_count": 1,
   "id": "4347d008-c913-427e-b07e-e8d68881c8b3",
   "metadata": {
    "tags": []
   },
   "outputs": [],
   "source": [
    "import geopy\n",
    "from geopy.geocoders import Nominatim\n",
    "import folium\n",
    "from folium import plugins\n",
    "import numpy as np\n",
    "import pandas as pd \n",
    "import matplotlib as mpl\n",
    "import matplotlib.pyplot as plt\n",
    "from IPython.display import IFrame\n",
    "from ipywidgets import interact\n",
    "from random import randint\n",
    "plt.style.use('ggplot') # graph_style "
   ]
  },
  {
   "cell_type": "markdown",
   "id": "d575e29c-7bcb-468c-b3eb-f079a74c0373",
   "metadata": {
    "jp-MarkdownHeadingCollapsed": true,
    "tags": []
   },
   "source": [
    "## L'introduction :"
   ]
  },
  {
   "cell_type": "code",
   "execution_count": 2,
   "id": "6b27e810-5040-42f8-83db-5c068df4a9ce",
   "metadata": {
    "tags": []
   },
   "outputs": [
    {
     "data": {
      "text/html": [
       "<div style=\"width:100%;\"><div style=\"position:relative;width:100%;height:0;padding-bottom:60%;\"><span style=\"color:#565656\">Make this Notebook Trusted to load map: File -> Trust Notebook</span><iframe srcdoc=\"&lt;!DOCTYPE html&gt;\n",
       "&lt;html&gt;\n",
       "&lt;head&gt;\n",
       "    \n",
       "    &lt;meta http-equiv=&quot;content-type&quot; content=&quot;text/html; charset=UTF-8&quot; /&gt;\n",
       "    \n",
       "        &lt;script&gt;\n",
       "            L_NO_TOUCH = false;\n",
       "            L_DISABLE_3D = false;\n",
       "        &lt;/script&gt;\n",
       "    \n",
       "    &lt;style&gt;html, body {width: 100%;height: 100%;margin: 0;padding: 0;}&lt;/style&gt;\n",
       "    &lt;style&gt;#map {position:absolute;top:0;bottom:0;right:0;left:0;}&lt;/style&gt;\n",
       "    &lt;script src=&quot;https://cdn.jsdelivr.net/npm/leaflet@1.9.3/dist/leaflet.js&quot;&gt;&lt;/script&gt;\n",
       "    &lt;script src=&quot;https://code.jquery.com/jquery-1.12.4.min.js&quot;&gt;&lt;/script&gt;\n",
       "    &lt;script src=&quot;https://cdn.jsdelivr.net/npm/bootstrap@5.2.2/dist/js/bootstrap.bundle.min.js&quot;&gt;&lt;/script&gt;\n",
       "    &lt;script src=&quot;https://cdnjs.cloudflare.com/ajax/libs/Leaflet.awesome-markers/2.0.2/leaflet.awesome-markers.js&quot;&gt;&lt;/script&gt;\n",
       "    &lt;link rel=&quot;stylesheet&quot; href=&quot;https://cdn.jsdelivr.net/npm/leaflet@1.9.3/dist/leaflet.css&quot;/&gt;\n",
       "    &lt;link rel=&quot;stylesheet&quot; href=&quot;https://cdn.jsdelivr.net/npm/bootstrap@5.2.2/dist/css/bootstrap.min.css&quot;/&gt;\n",
       "    &lt;link rel=&quot;stylesheet&quot; href=&quot;https://netdna.bootstrapcdn.com/bootstrap/3.0.0/css/bootstrap.min.css&quot;/&gt;\n",
       "    &lt;link rel=&quot;stylesheet&quot; href=&quot;https://cdn.jsdelivr.net/npm/@fortawesome/fontawesome-free@6.2.0/css/all.min.css&quot;/&gt;\n",
       "    &lt;link rel=&quot;stylesheet&quot; href=&quot;https://cdnjs.cloudflare.com/ajax/libs/Leaflet.awesome-markers/2.0.2/leaflet.awesome-markers.css&quot;/&gt;\n",
       "    &lt;link rel=&quot;stylesheet&quot; href=&quot;https://cdn.jsdelivr.net/gh/python-visualization/folium/folium/templates/leaflet.awesome.rotate.min.css&quot;/&gt;\n",
       "    \n",
       "            &lt;meta name=&quot;viewport&quot; content=&quot;width=device-width,\n",
       "                initial-scale=1.0, maximum-scale=1.0, user-scalable=no&quot; /&gt;\n",
       "            &lt;style&gt;\n",
       "                #map_f53886a0701b5c1d079ffc24c458cdaf {\n",
       "                    position: relative;\n",
       "                    width: 600.0px;\n",
       "                    height: 600.0px;\n",
       "                    left: 0.0%;\n",
       "                    top: 0.0%;\n",
       "                }\n",
       "                .leaflet-container { font-size: 1rem; }\n",
       "            &lt;/style&gt;\n",
       "        \n",
       "&lt;/head&gt;\n",
       "&lt;body&gt;\n",
       "    \n",
       "    \n",
       "            &lt;div class=&quot;folium-map&quot; id=&quot;map_f53886a0701b5c1d079ffc24c458cdaf&quot; &gt;&lt;/div&gt;\n",
       "        \n",
       "&lt;/body&gt;\n",
       "&lt;script&gt;\n",
       "    \n",
       "    \n",
       "            var map_f53886a0701b5c1d079ffc24c458cdaf = L.map(\n",
       "                &quot;map_f53886a0701b5c1d079ffc24c458cdaf&quot;,\n",
       "                {\n",
       "                    center: [-0.65946, -179.417145],\n",
       "                    crs: L.CRS.EPSG3857,\n",
       "                    zoom: 1.5,\n",
       "                    zoomControl: true,\n",
       "                    preferCanvas: false,\n",
       "                }\n",
       "            );\n",
       "\n",
       "            \n",
       "\n",
       "        \n",
       "    \n",
       "            var tile_layer_7972d3afb476a97ae5729840adf62602 = L.tileLayer(\n",
       "                &quot;https://{s}.tile.openstreetmap.org/{z}/{x}/{y}.png&quot;,\n",
       "                {&quot;attribution&quot;: &quot;Data by \\u0026copy; \\u003ca target=\\&quot;_blank\\&quot; href=\\&quot;http://openstreetmap.org\\&quot;\\u003eOpenStreetMap\\u003c/a\\u003e, under \\u003ca target=\\&quot;_blank\\&quot; href=\\&quot;http://www.openstreetmap.org/copyright\\&quot;\\u003eODbL\\u003c/a\\u003e.&quot;, &quot;detectRetina&quot;: false, &quot;maxNativeZoom&quot;: 18, &quot;maxZoom&quot;: 18, &quot;minZoom&quot;: 0, &quot;noWrap&quot;: false, &quot;opacity&quot;: 1, &quot;subdomains&quot;: &quot;abc&quot;, &quot;tms&quot;: false}\n",
       "            ).addTo(map_f53886a0701b5c1d079ffc24c458cdaf);\n",
       "        \n",
       "    \n",
       "            var marker_ece9653a722d86d10d873eb7383556c2 = L.marker(\n",
       "                [-17.65946, -149.417145],\n",
       "                {&quot;color&quot;: &quot;red&quot;}\n",
       "            ).addTo(map_f53886a0701b5c1d079ffc24c458cdaf);\n",
       "        \n",
       "    \n",
       "            marker_ece9653a722d86d10d873eb7383556c2.bindTooltip(\n",
       "                `&lt;div&gt;\n",
       "                     Polynésie française\n",
       "                 &lt;/div&gt;`,\n",
       "                {&quot;sticky&quot;: true}\n",
       "            );\n",
       "        \n",
       "    \n",
       "            var circle_marker_d2316543401e162da8316c611abfcba9 = L.circleMarker(\n",
       "                [-17.65946, -149.417145],\n",
       "                {&quot;bubblingMouseEvents&quot;: true, &quot;color&quot;: &quot;#3388ff&quot;, &quot;dashArray&quot;: null, &quot;dashOffset&quot;: null, &quot;fill&quot;: true, &quot;fillColor&quot;: &quot;red&quot;, &quot;fillOpacity&quot;: 0.2, &quot;fillRule&quot;: &quot;evenodd&quot;, &quot;lineCap&quot;: &quot;round&quot;, &quot;lineJoin&quot;: &quot;round&quot;, &quot;opacity&quot;: 1.0, &quot;radius&quot;: 10, &quot;stroke&quot;: true, &quot;weight&quot;: 3}\n",
       "            ).addTo(map_f53886a0701b5c1d079ffc24c458cdaf);\n",
       "        \n",
       "&lt;/script&gt;\n",
       "&lt;/html&gt;\" style=\"position:absolute;width:100%;height:100%;left:0;top:0;border:none !important;\" allowfullscreen webkitallowfullscreen mozallowfullscreen></iframe></div></div>"
      ],
      "text/plain": [
       "<folium.folium.Map at 0x1c0b4fe5cd0>"
      ]
     },
     "execution_count": 2,
     "metadata": {},
     "output_type": "execute_result"
    }
   ],
   "source": [
    "def PF_map():  # Creation of the forst map \n",
    "    \n",
    "    #Map creation\n",
    "    PF = folium.Map(location=[-0.65946, -179.417145], width=600, height=600, zoom_start=1.5) \n",
    "    folium.Marker(location=[-17.65946, -149.417145],  tooltip=  'Polynésie française', color='red').add_to(PF)\n",
    "    folium.CircleMarker(location=[-17.65946, -149.417145],radius=10, fill_color='red').add_to(PF)\n",
    "    \n",
    "    #display\n",
    "    return PF\n",
    "\n",
    "PF_map()"
   ]
  },
  {
   "cell_type": "markdown",
   "id": "1fe78e81-dd57-4591-92fa-cd63f992de5c",
   "metadata": {
    "jp-MarkdownHeadingCollapsed": true,
    "tags": []
   },
   "source": [
    "## L'import/export :"
   ]
  },
  {
   "cell_type": "markdown",
   "id": "dfba7c70-9859-45b1-a2fe-3caff9abe290",
   "metadata": {
    "tags": []
   },
   "source": [
    "#### Balance commerciale"
   ]
  },
  {
   "cell_type": "code",
   "execution_count": 3,
   "id": "8d72ce3a-e68f-4216-b866-55f62289fb62",
   "metadata": {},
   "outputs": [],
   "source": [
    "from random import randint\n",
    "df_main = pd.read_csv(\"Data/econ1016.csv\", sep = ';')\n",
    "#display(df_main.head(2))\n",
    "#display(df_main.tail(2))"
   ]
  },
  {
   "cell_type": "code",
   "execution_count": 4,
   "id": "4dc0eee8-4850-4a9c-9e44-29968450ae84",
   "metadata": {},
   "outputs": [],
   "source": [
    "#keep only import and export columns (except DTI and DTE)\n",
    "df_bot = df_main[['Date','Valeur Imports','Valeur Exports','Poids Imports','Poids Exports']]"
   ]
  },
  {
   "cell_type": "code",
   "execution_count": 5,
   "id": "ca0f2256-91b0-4148-bece-007f763b7b80",
   "metadata": {},
   "outputs": [
    {
     "data": {
      "text/html": [
       "<div>\n",
       "<style scoped>\n",
       "    .dataframe tbody tr th:only-of-type {\n",
       "        vertical-align: middle;\n",
       "    }\n",
       "\n",
       "    .dataframe tbody tr th {\n",
       "        vertical-align: top;\n",
       "    }\n",
       "\n",
       "    .dataframe thead th {\n",
       "        text-align: right;\n",
       "    }\n",
       "</style>\n",
       "<table border=\"1\" class=\"dataframe\">\n",
       "  <thead>\n",
       "    <tr style=\"text-align: right;\">\n",
       "      <th></th>\n",
       "      <th>Date</th>\n",
       "      <th>Valeur Imports</th>\n",
       "      <th>Valeur Exports</th>\n",
       "      <th>Poids Imports</th>\n",
       "      <th>Poids Exports</th>\n",
       "    </tr>\n",
       "  </thead>\n",
       "  <tbody>\n",
       "    <tr>\n",
       "      <th>0</th>\n",
       "      <td>2022-09-01</td>\n",
       "      <td>20657339908</td>\n",
       "      <td>1126453552</td>\n",
       "      <td>54961855,316</td>\n",
       "      <td>1972318,097</td>\n",
       "    </tr>\n",
       "    <tr>\n",
       "      <th>1</th>\n",
       "      <td>2022-08-01</td>\n",
       "      <td>22476746866</td>\n",
       "      <td>732200118</td>\n",
       "      <td>57021055,105</td>\n",
       "      <td>925865,882</td>\n",
       "    </tr>\n",
       "  </tbody>\n",
       "</table>\n",
       "</div>"
      ],
      "text/plain": [
       "         Date  Valeur Imports  Valeur Exports Poids Imports Poids Exports\n",
       "0  2022-09-01     20657339908      1126453552  54961855,316   1972318,097\n",
       "1  2022-08-01     22476746866       732200118  57021055,105    925865,882"
      ]
     },
     "metadata": {},
     "output_type": "display_data"
    },
    {
     "data": {
      "text/html": [
       "<div>\n",
       "<style scoped>\n",
       "    .dataframe tbody tr th:only-of-type {\n",
       "        vertical-align: middle;\n",
       "    }\n",
       "\n",
       "    .dataframe tbody tr th {\n",
       "        vertical-align: top;\n",
       "    }\n",
       "\n",
       "    .dataframe thead th {\n",
       "        text-align: right;\n",
       "    }\n",
       "</style>\n",
       "<table border=\"1\" class=\"dataframe\">\n",
       "  <thead>\n",
       "    <tr style=\"text-align: right;\">\n",
       "      <th></th>\n",
       "      <th>Date</th>\n",
       "      <th>Valeur Imports</th>\n",
       "      <th>Valeur Exports</th>\n",
       "      <th>Poids Imports</th>\n",
       "      <th>Poids Exports</th>\n",
       "    </tr>\n",
       "  </thead>\n",
       "  <tbody>\n",
       "    <tr>\n",
       "      <th>271</th>\n",
       "      <td>2000-02-01</td>\n",
       "      <td>8840245352</td>\n",
       "      <td>1758339076</td>\n",
       "      <td>63222531</td>\n",
       "      <td>997165</td>\n",
       "    </tr>\n",
       "    <tr>\n",
       "      <th>272</th>\n",
       "      <td>2000-01-01</td>\n",
       "      <td>9140801175</td>\n",
       "      <td>756412761</td>\n",
       "      <td>59233641</td>\n",
       "      <td>546833</td>\n",
       "    </tr>\n",
       "  </tbody>\n",
       "</table>\n",
       "</div>"
      ],
      "text/plain": [
       "           Date  Valeur Imports  Valeur Exports Poids Imports Poids Exports\n",
       "271  2000-02-01      8840245352      1758339076      63222531        997165\n",
       "272  2000-01-01      9140801175       756412761      59233641        546833"
      ]
     },
     "metadata": {},
     "output_type": "display_data"
    }
   ],
   "source": [
    "display(df_bot.head(2))\n",
    "display(df_bot.tail(2))"
   ]
  },
  {
   "cell_type": "code",
   "execution_count": 6,
   "id": "2500c241-25f2-46f1-8fe6-5e5b9d03ae5c",
   "metadata": {},
   "outputs": [
    {
     "data": {
      "text/plain": [
       "Date              object\n",
       "Valeur Imports     int64\n",
       "Valeur Exports     int64\n",
       "Poids Imports     object\n",
       "Poids Exports     object\n",
       "dtype: object"
      ]
     },
     "execution_count": 6,
     "metadata": {},
     "output_type": "execute_result"
    }
   ],
   "source": [
    "df_bot.dtypes"
   ]
  },
  {
   "cell_type": "code",
   "execution_count": 7,
   "id": "332cae7d-2cf5-4da1-80db-5af4d24927fb",
   "metadata": {},
   "outputs": [],
   "source": [
    "#reminder, formula Balance Of Trade : Country's Exports - Country's Imports\n",
    "#creation of the column BoT\n",
    "bot_list = list(df_bot.loc[:,'Valeur Exports'] - df_bot.loc[:,'Valeur Imports'])\n",
    "df_bot = df_bot.assign(Balance_Commerciale = bot_list)"
   ]
  },
  {
   "cell_type": "code",
   "execution_count": 8,
   "id": "1e5d0acf-c16d-4128-8d0d-00a0bd0ea2e9",
   "metadata": {},
   "outputs": [
    {
     "data": {
      "text/plain": [
       "count    2.730000e+02\n",
       "mean    -1.288858e+10\n",
       "std      4.110609e+09\n",
       "min     -3.700668e+10\n",
       "25%     -1.393927e+10\n",
       "50%     -1.224480e+10\n",
       "75%     -1.086387e+10\n",
       "max     -5.848471e+09\n",
       "Name: Balance_Commerciale, dtype: float64"
      ]
     },
     "metadata": {},
     "output_type": "display_data"
    },
    {
     "data": {
      "text/html": [
       "<div>\n",
       "<style scoped>\n",
       "    .dataframe tbody tr th:only-of-type {\n",
       "        vertical-align: middle;\n",
       "    }\n",
       "\n",
       "    .dataframe tbody tr th {\n",
       "        vertical-align: top;\n",
       "    }\n",
       "\n",
       "    .dataframe thead th {\n",
       "        text-align: right;\n",
       "    }\n",
       "</style>\n",
       "<table border=\"1\" class=\"dataframe\">\n",
       "  <thead>\n",
       "    <tr style=\"text-align: right;\">\n",
       "      <th></th>\n",
       "      <th>Date</th>\n",
       "      <th>Valeur Imports</th>\n",
       "      <th>Valeur Exports</th>\n",
       "      <th>Poids Imports</th>\n",
       "      <th>Poids Exports</th>\n",
       "      <th>Balance_Commerciale</th>\n",
       "    </tr>\n",
       "  </thead>\n",
       "  <tbody>\n",
       "    <tr>\n",
       "      <th>45</th>\n",
       "      <td>2018-12-01</td>\n",
       "      <td>37898692139</td>\n",
       "      <td>892013738</td>\n",
       "      <td>62869101</td>\n",
       "      <td>1781227</td>\n",
       "      <td>-37006678401</td>\n",
       "    </tr>\n",
       "  </tbody>\n",
       "</table>\n",
       "</div>"
      ],
      "text/plain": [
       "          Date  Valeur Imports  Valeur Exports Poids Imports Poids Exports  \\\n",
       "45  2018-12-01     37898692139       892013738      62869101       1781227   \n",
       "\n",
       "    Balance_Commerciale  \n",
       "45         -37006678401  "
      ]
     },
     "metadata": {},
     "output_type": "display_data"
    },
    {
     "data": {
      "text/html": [
       "<div>\n",
       "<style scoped>\n",
       "    .dataframe tbody tr th:only-of-type {\n",
       "        vertical-align: middle;\n",
       "    }\n",
       "\n",
       "    .dataframe tbody tr th {\n",
       "        vertical-align: top;\n",
       "    }\n",
       "\n",
       "    .dataframe thead th {\n",
       "        text-align: right;\n",
       "    }\n",
       "</style>\n",
       "<table border=\"1\" class=\"dataframe\">\n",
       "  <thead>\n",
       "    <tr style=\"text-align: right;\">\n",
       "      <th></th>\n",
       "      <th>Date</th>\n",
       "      <th>Valeur Imports</th>\n",
       "      <th>Valeur Exports</th>\n",
       "      <th>Poids Imports</th>\n",
       "      <th>Poids Exports</th>\n",
       "      <th>Balance_Commerciale</th>\n",
       "    </tr>\n",
       "  </thead>\n",
       "  <tbody>\n",
       "    <tr>\n",
       "      <th>270</th>\n",
       "      <td>2000-03-01</td>\n",
       "      <td>8961341591</td>\n",
       "      <td>3112870799</td>\n",
       "      <td>52817145</td>\n",
       "      <td>1553237</td>\n",
       "      <td>-5848470792</td>\n",
       "    </tr>\n",
       "  </tbody>\n",
       "</table>\n",
       "</div>"
      ],
      "text/plain": [
       "           Date  Valeur Imports  Valeur Exports Poids Imports Poids Exports  \\\n",
       "270  2000-03-01      8961341591      3112870799      52817145       1553237   \n",
       "\n",
       "     Balance_Commerciale  \n",
       "270          -5848470792  "
      ]
     },
     "metadata": {},
     "output_type": "display_data"
    },
    {
     "data": {
      "text/html": [
       "<div>\n",
       "<style scoped>\n",
       "    .dataframe tbody tr th:only-of-type {\n",
       "        vertical-align: middle;\n",
       "    }\n",
       "\n",
       "    .dataframe tbody tr th {\n",
       "        vertical-align: top;\n",
       "    }\n",
       "\n",
       "    .dataframe thead th {\n",
       "        text-align: right;\n",
       "    }\n",
       "</style>\n",
       "<table border=\"1\" class=\"dataframe\">\n",
       "  <thead>\n",
       "    <tr style=\"text-align: right;\">\n",
       "      <th></th>\n",
       "      <th>Date</th>\n",
       "      <th>Valeur Imports</th>\n",
       "      <th>Valeur Exports</th>\n",
       "      <th>Poids Imports</th>\n",
       "      <th>Poids Exports</th>\n",
       "      <th>Balance_Commerciale</th>\n",
       "    </tr>\n",
       "  </thead>\n",
       "  <tbody>\n",
       "    <tr>\n",
       "      <th>1</th>\n",
       "      <td>2022-08-01</td>\n",
       "      <td>22476746866</td>\n",
       "      <td>732200118</td>\n",
       "      <td>57021055,105</td>\n",
       "      <td>925865,882</td>\n",
       "      <td>-21744546748</td>\n",
       "    </tr>\n",
       "    <tr>\n",
       "      <th>2</th>\n",
       "      <td>2022-07-01</td>\n",
       "      <td>22567441508</td>\n",
       "      <td>880784676</td>\n",
       "      <td>89985943,7079999</td>\n",
       "      <td>2320252,4769</td>\n",
       "      <td>-21686656832</td>\n",
       "    </tr>\n",
       "    <tr>\n",
       "      <th>3</th>\n",
       "      <td>2022-06-01</td>\n",
       "      <td>22479037329</td>\n",
       "      <td>1391305677</td>\n",
       "      <td>78181581,9249999</td>\n",
       "      <td>1764389,206</td>\n",
       "      <td>-21087731652</td>\n",
       "    </tr>\n",
       "    <tr>\n",
       "      <th>12</th>\n",
       "      <td>2021-09-01</td>\n",
       "      <td>21308762797</td>\n",
       "      <td>768039702</td>\n",
       "      <td>88867854,112</td>\n",
       "      <td>1823478,8933</td>\n",
       "      <td>-20540723095</td>\n",
       "    </tr>\n",
       "    <tr>\n",
       "      <th>15</th>\n",
       "      <td>2021-06-01</td>\n",
       "      <td>20873849253</td>\n",
       "      <td>694810359</td>\n",
       "      <td>82385526,8419999</td>\n",
       "      <td>1043723,135</td>\n",
       "      <td>-20179038894</td>\n",
       "    </tr>\n",
       "    <tr>\n",
       "      <th>38</th>\n",
       "      <td>2019-07-01</td>\n",
       "      <td>32226656233</td>\n",
       "      <td>1093130679</td>\n",
       "      <td>68553647,796</td>\n",
       "      <td>2354276,428</td>\n",
       "      <td>-31133525554</td>\n",
       "    </tr>\n",
       "    <tr>\n",
       "      <th>40</th>\n",
       "      <td>2019-05-01</td>\n",
       "      <td>31937182985</td>\n",
       "      <td>701784316</td>\n",
       "      <td>64814144</td>\n",
       "      <td>1946055</td>\n",
       "      <td>-31235398669</td>\n",
       "    </tr>\n",
       "    <tr>\n",
       "      <th>45</th>\n",
       "      <td>2018-12-01</td>\n",
       "      <td>37898692139</td>\n",
       "      <td>892013738</td>\n",
       "      <td>62869101</td>\n",
       "      <td>1781227</td>\n",
       "      <td>-37006678401</td>\n",
       "    </tr>\n",
       "    <tr>\n",
       "      <th>48</th>\n",
       "      <td>2018-09-01</td>\n",
       "      <td>36552124026</td>\n",
       "      <td>526517793</td>\n",
       "      <td>70997221</td>\n",
       "      <td>1915308</td>\n",
       "      <td>-36025606233</td>\n",
       "    </tr>\n",
       "    <tr>\n",
       "      <th>204</th>\n",
       "      <td>2005-09-01</td>\n",
       "      <td>22852472832</td>\n",
       "      <td>1219764444</td>\n",
       "      <td>74722879</td>\n",
       "      <td>1847701</td>\n",
       "      <td>-21632708388</td>\n",
       "    </tr>\n",
       "    <tr>\n",
       "      <th>235</th>\n",
       "      <td>2003-02-01</td>\n",
       "      <td>30519851601</td>\n",
       "      <td>1260044242</td>\n",
       "      <td>78898086</td>\n",
       "      <td>1437489</td>\n",
       "      <td>-29259807359</td>\n",
       "    </tr>\n",
       "    <tr>\n",
       "      <th>244</th>\n",
       "      <td>2002-05-01</td>\n",
       "      <td>36128450875</td>\n",
       "      <td>1349464229</td>\n",
       "      <td>69394073</td>\n",
       "      <td>1609230</td>\n",
       "      <td>-34778986646</td>\n",
       "    </tr>\n",
       "  </tbody>\n",
       "</table>\n",
       "</div>"
      ],
      "text/plain": [
       "           Date  Valeur Imports  Valeur Exports     Poids Imports  \\\n",
       "1    2022-08-01     22476746866       732200118      57021055,105   \n",
       "2    2022-07-01     22567441508       880784676  89985943,7079999   \n",
       "3    2022-06-01     22479037329      1391305677  78181581,9249999   \n",
       "12   2021-09-01     21308762797       768039702      88867854,112   \n",
       "15   2021-06-01     20873849253       694810359  82385526,8419999   \n",
       "38   2019-07-01     32226656233      1093130679      68553647,796   \n",
       "40   2019-05-01     31937182985       701784316          64814144   \n",
       "45   2018-12-01     37898692139       892013738          62869101   \n",
       "48   2018-09-01     36552124026       526517793          70997221   \n",
       "204  2005-09-01     22852472832      1219764444          74722879   \n",
       "235  2003-02-01     30519851601      1260044242          78898086   \n",
       "244  2002-05-01     36128450875      1349464229          69394073   \n",
       "\n",
       "    Poids Exports  Balance_Commerciale  \n",
       "1      925865,882         -21744546748  \n",
       "2    2320252,4769         -21686656832  \n",
       "3     1764389,206         -21087731652  \n",
       "12   1823478,8933         -20540723095  \n",
       "15    1043723,135         -20179038894  \n",
       "38    2354276,428         -31133525554  \n",
       "40        1946055         -31235398669  \n",
       "45        1781227         -37006678401  \n",
       "48        1915308         -36025606233  \n",
       "204       1847701         -21632708388  \n",
       "235       1437489         -29259807359  \n",
       "244       1609230         -34778986646  "
      ]
     },
     "metadata": {},
     "output_type": "display_data"
    },
    {
     "data": {
      "text/plain": [
       "-10634982227"
      ]
     },
     "metadata": {},
     "output_type": "display_data"
    }
   ],
   "source": [
    "display(df_bot['Balance_Commerciale'].describe()) #descriptive values\n",
    "display(df_bot[df_bot['Balance_Commerciale'] == df_bot['Balance_Commerciale'].min()]) #show the date of the min\n",
    "display(df_bot[df_bot['Balance_Commerciale'] == df_bot['Balance_Commerciale'].max()]) #show the date of the max\n",
    "display(df_bot[df_bot['Balance_Commerciale'] < -19939271326]) \n",
    "display(df_bot.loc[250,'Balance_Commerciale'])"
   ]
  },
  {
   "cell_type": "code",
   "execution_count": 9,
   "id": "94d10f05-2fed-46ac-85a9-a6bf1a7bd44a",
   "metadata": {},
   "outputs": [
    {
     "data": {
      "image/png": "[encoded data removed]",
      "text/plain": [
       "<Figure size 1440x144 with 1 Axes>"
      ]
     },
     "metadata": {},
     "output_type": "display_data"
    }
   ],
   "source": [
    "\n",
    "\n",
    "#Points to show\n",
    "min_points = df_bot[['Date','Balance_Commerciale']][df_bot['Balance_Commerciale'] < -29006678401]\n",
    "\n",
    "#Colors vector for the point\n",
    "colors = []\n",
    "for i in range(len(min_points)):\n",
    "    colors.append('#%06X' % randint(0, 0xFFFFFF))\n",
    "\n",
    "\n",
    "#Balance of Trade graph\n",
    "bot_plot = df_bot.plot.line(x = 'Date', y = 'Balance_Commerciale' , title = 'Balance commerciale en Polynésie Française'\n",
    "                 , ylabel = 'Francs Pacifique', figsize = (20,2))\n",
    "bot_plot.scatter(x=list(min_points['Date'].index),y =list(min_points['Balance_Commerciale']), color= colors)\n",
    "bot_plot.invert_xaxis() #invert the x axis \n",
    "bot_plot.set_axisbelow(True)\n",
    "\n",
    "\n",
    "#bot_plot.legend(list(min_points['Date']),list(min_points['Balance_Commerciale'])) #trying to add point into the legend\n",
    "\n",
    "#plt.savefig('Graphics_files/BOT.png')"
   ]
  },
  {
   "cell_type": "markdown",
   "id": "b45171c1-4322-4da4-b0c0-1e44fed31ca8",
   "metadata": {
    "jp-MarkdownHeadingCollapsed": true,
    "tags": []
   },
   "source": [
    "#### Evolution de la valeur annuelle de l'exportation"
   ]
  },
  {
   "cell_type": "code",
   "execution_count": 10,
   "id": "1d0f1a3f-8e3c-43f0-9fad-7b89a959827b",
   "metadata": {
    "tags": []
   },
   "outputs": [
    {
     "data": {
      "text/html": [
       "<div>\n",
       "<style scoped>\n",
       "    .dataframe tbody tr th:only-of-type {\n",
       "        vertical-align: middle;\n",
       "    }\n",
       "\n",
       "    .dataframe tbody tr th {\n",
       "        vertical-align: top;\n",
       "    }\n",
       "\n",
       "    .dataframe thead th {\n",
       "        text-align: right;\n",
       "    }\n",
       "</style>\n",
       "<table border=\"1\" class=\"dataframe\">\n",
       "  <thead>\n",
       "    <tr style=\"text-align: right;\">\n",
       "      <th></th>\n",
       "      <th>Année</th>\n",
       "      <th>2022</th>\n",
       "      <th>2021</th>\n",
       "      <th>2020</th>\n",
       "      <th>2019</th>\n",
       "      <th>2018</th>\n",
       "      <th>2017</th>\n",
       "      <th>2016</th>\n",
       "      <th>2015</th>\n",
       "      <th>2014</th>\n",
       "    </tr>\n",
       "  </thead>\n",
       "  <tbody>\n",
       "    <tr>\n",
       "      <th>Exportations_totales</th>\n",
       "      <td></td>\n",
       "      <td>13231653808.0</td>\n",
       "      <td>12067672056.0</td>\n",
       "      <td>7424583731.0</td>\n",
       "      <td>14249366039.0</td>\n",
       "      <td>14899212059.0</td>\n",
       "      <td>16150837666.0</td>\n",
       "      <td>18797842312.0</td>\n",
       "      <td>14101741745.0</td>\n",
       "      <td>15305555369.0</td>\n",
       "    </tr>\n",
       "  </tbody>\n",
       "</table>\n",
       "</div>"
      ],
      "text/plain": [
       "                     Année           2022           2021          2020  \\\n",
       "Exportations_totales        13231653808.0  12067672056.0  7424583731.0   \n",
       "\n",
       "                               2019           2018           2017  \\\n",
       "Exportations_totales  14249366039.0  14899212059.0  16150837666.0   \n",
       "\n",
       "                               2016           2015           2014  \n",
       "Exportations_totales  18797842312.0  14101741745.0  15305555369.0  "
      ]
     },
     "metadata": {},
     "output_type": "display_data"
    },
    {
     "data": {
      "image/png": "[encoded data removed]",
      "text/plain": [
       "<Figure size 720x360 with 1 Axes>"
      ]
     },
     "metadata": {},
     "output_type": "display_data"
    }
   ],
   "source": [
    "import pandas as pd\n",
    "import matplotlib.pyplot as plt\n",
    "\n",
    "#load data\n",
    "produit_exp_cleaned = pd.read_csv(\"Cleaned_Data/produit_exp_cleaned.csv\")\n",
    "\n",
    "## Data cleaning and display dataframe\n",
    "produit_exp_cleaned.drop('Unnamed: 0', axis=1, inplace=True)\n",
    "Export_totale_an = pd.DataFrame(produit_exp_cleaned.iloc[95,]).head(10).T\n",
    "Export_totale_an.iloc[0,0] = ' '\n",
    "Export_totale_an.rename(columns={'Produit': 'Année'}, index={95: 'Exportations_totales'}, inplace=True)\n",
    "display(Export_totale_an)\n",
    "\n",
    "#plot dataframe\n",
    "plt.style.use('ggplot')\n",
    "Export_totale_an = pd.DataFrame(produit_exp_cleaned.iloc[95,])\n",
    "Export_totale_an=Export_totale_an.reset_index()\n",
    "Export_totale_an.drop(0, axis=0, inplace=True)\n",
    "Export_totale_an.rename(columns={'index': 'Année',95: 'Exportations totales (en F FCP)'}, inplace=True)\n",
    "Graph_Exp = Export_totale_an.plot(x='Année', y='Exportations totales (en F FCP)', figsize=(10,5), title='Evolution de la valeur annuelle des exportations')\n",
    "Graph_Exp .invert_xaxis()\n",
    "\n",
    "#plt.savefig('Graphics_files/Evolution_exportation_year.png')"
   ]
  },
  {
   "cell_type": "markdown",
   "id": "49654fca-2adc-494e-8d1f-46344f831dc5",
   "metadata": {
    "jp-MarkdownHeadingCollapsed": true,
    "tags": []
   },
   "source": [
    "#### Evolution de la valeur annuelle de l'importation"
   ]
  },
  {
   "cell_type": "code",
   "execution_count": 11,
   "id": "1902211c-63ad-401c-aa6e-c6acdcb80de6",
   "metadata": {},
   "outputs": [
    {
     "data": {
      "text/html": [
       "<div>\n",
       "<style scoped>\n",
       "    .dataframe tbody tr th:only-of-type {\n",
       "        vertical-align: middle;\n",
       "    }\n",
       "\n",
       "    .dataframe tbody tr th {\n",
       "        vertical-align: top;\n",
       "    }\n",
       "\n",
       "    .dataframe thead th {\n",
       "        text-align: right;\n",
       "    }\n",
       "</style>\n",
       "<table border=\"1\" class=\"dataframe\">\n",
       "  <thead>\n",
       "    <tr style=\"text-align: right;\">\n",
       "      <th></th>\n",
       "      <th>Année</th>\n",
       "      <th>2022</th>\n",
       "      <th>2021</th>\n",
       "      <th>2020</th>\n",
       "      <th>2019</th>\n",
       "      <th>2018</th>\n",
       "      <th>2017</th>\n",
       "      <th>2016</th>\n",
       "      <th>2015</th>\n",
       "      <th>2014</th>\n",
       "    </tr>\n",
       "  </thead>\n",
       "  <tbody>\n",
       "    <tr>\n",
       "      <th>Importations totales en F CFP</th>\n",
       "      <td></td>\n",
       "      <td>228797795700</td>\n",
       "      <td>200058379897</td>\n",
       "      <td>177103672020</td>\n",
       "      <td>224218721792</td>\n",
       "      <td>226861489694</td>\n",
       "      <td>172770670995</td>\n",
       "      <td>160988500057</td>\n",
       "      <td>164707223137</td>\n",
       "      <td>158495648957</td>\n",
       "    </tr>\n",
       "  </tbody>\n",
       "</table>\n",
       "</div>"
      ],
      "text/plain": [
       "                              Année          2022          2021          2020  \\\n",
       "Importations totales en F CFP        228797795700  200058379897  177103672020   \n",
       "\n",
       "                                       2019          2018          2017  \\\n",
       "Importations totales en F CFP  224218721792  226861489694  172770670995   \n",
       "\n",
       "                                       2016          2015          2014  \n",
       "Importations totales en F CFP  160988500057  164707223137  158495648957  "
      ]
     },
     "metadata": {},
     "output_type": "display_data"
    },
    {
     "data": {
      "image/png": "[encoded data removed]",
      "text/plain": [
       "<Figure size 720x360 with 1 Axes>"
      ]
     },
     "metadata": {},
     "output_type": "display_data"
    }
   ],
   "source": [
    "import pandas as pd\n",
    "import matplotlib.pyplot as plt\n",
    "#load data\n",
    "df_prod_imp = pd.read_excel(\"Data/produit_imp.xlsx\")\n",
    "\n",
    "## Data cleaning\n",
    "Imp_year= pd.DataFrame(df_prod_imp.iloc[98,]).head(10).T\n",
    "Imp_year.iloc[0,0] = ' '\n",
    "Imp_year.rename(columns={'Unnamed: 0': 'Année'}, index={98: 'Importations totales en F CFP'}, inplace=True)\n",
    "display(Imp_year)\n",
    "\n",
    "\n",
    "#plot dataframe\n",
    "plt.style.use('ggplot')\n",
    "Imp_year = pd.DataFrame(df_prod_imp.iloc[98,])\n",
    "Imp_year=Imp_year.reset_index()\n",
    "Imp_year.drop(0, axis=0, inplace=True)\n",
    "Imp_year.rename(columns={'index': 'Année',98: 'Importations totales (en F FCP)'}, inplace=True)\n",
    "Graph_Imp = Imp_year.plot(x='Année', y='Importations totales (en F FCP)', figsize=(10,5), title='Evolution de la valeur annuelle des importations')\n",
    "Graph_Imp .invert_xaxis()\n",
    "\n",
    "#plt.savefig('Graphics_files/Evolution_importation_year.png')"
   ]
  },
  {
   "cell_type": "markdown",
   "id": "73386c5c-8335-4aa7-a0cf-a37e565f7bdb",
   "metadata": {
    "jp-MarkdownHeadingCollapsed": true,
    "tags": []
   },
   "source": [
    "#### Top x valeur d'exportation par année"
   ]
  },
  {
   "cell_type": "code",
   "execution_count": 12,
   "id": "4c091537-0ceb-4996-b8a6-a021178f2a79",
   "metadata": {
    "tags": []
   },
   "outputs": [
    {
     "data": {
      "application/vnd.jupyter.widget-view+json": {
       "model_id": "4c19be478b7b43169ac84cefb5185366",
       "version_major": 2,
       "version_minor": 0
      },
      "text/plain": [
       "interactive(children=(IntSlider(value=5, description='top', max=95, min=1), Dropdown(description='year', optio…"
      ]
     },
     "metadata": {},
     "output_type": "display_data"
    }
   ],
   "source": [
    "#Load Data\n",
    "df_prod_exp = pd.read_csv('Cleaned_Data/produit_exp_cleaned.csv')\n",
    "df_prod_exp.drop('Unnamed: 0', axis=1, inplace=True)\n",
    "\n",
    "# function that creates the row of the (Total - top_n) for the pie chart.\n",
    "\n",
    "def prod_exp_sort_by(year):\n",
    "    ignore = ['Produit']\n",
    "    df_function = df_prod_exp.set_index(ignore)\n",
    "    return (df_function.sort_values(year, ascending = False)) #increasing order\n",
    "\n",
    "def top_prod(n,pie_prod_exp):\n",
    "    if n >= len(pie_prod_exp):\n",
    "        return( 'Error, there is only ' + str(len(df_prod_exp)) + ' exported products')\n",
    "    else:\n",
    "        pie_prod_exp.loc['Autres'] = list(pie_prod_exp.loc['Grand Total'] -  pie_prod_exp[1:n].sum(axis = 0))\n",
    "\n",
    "# pie chart of the top_n element of a given year\n",
    "@interact(top = (1, len(df_prod_exp) - 1), year = list(df_prod_exp.set_index(['Produit']).columns))\n",
    "\n",
    "def pie_chart_exp(top = 5, year = '2022'):\n",
    "    pie_prod_exp = prod_exp_sort_by(year)\n",
    "    top_prod(top + 1,pie_prod_exp)\n",
    "    row_pie = [i for i in range(1,top + 1)] #select the element to show into the pie chart\n",
    "    row_pie.append(len(pie_prod_exp) - 1)\n",
    "    #pie chart code\n",
    "    explode = [0.03] * (top + 1) #space beteween each part of the pie chart\n",
    "    pie_prod_exp.iloc[row_pie].plot.pie(y = year, subplots = True,figsize = (8,8)\n",
    "                               ,autopct='%.1f%%', labeldistance = None,  explode = explode, shadow = True)\n",
    "    plt.title(\"top \" + str(top) + \" des produits exportés\" \" sur l'année \" + year\n",
    "              , fontweight = \"bold\")\n",
    "    plt.legend(bbox_to_anchor = (1,0.5),loc = 'center left',fontsize = 10)\n"
   ]
  },
  {
   "cell_type": "markdown",
   "id": "b795858f-118b-4151-acaa-fd883e014a9b",
   "metadata": {
    "tags": []
   },
   "source": [
    "####  Barblot Graphe Clients Polynésie Française"
   ]
  },
  {
   "cell_type": "code",
   "execution_count": 13,
   "id": "8fe1e427-ac5e-45cb-8e56-6a079b018366",
   "metadata": {
    "tags": []
   },
   "outputs": [
    {
     "data": {
      "application/vnd.jupyter.widget-view+json": {
       "model_id": "eee0d63386254e4f8319578cfb4aa1b4",
       "version_major": 2,
       "version_minor": 0
      },
      "text/plain": [
       "interactive(children=(IntSlider(value=5, description='top', max=162, min=1), Dropdown(description='year', inde…"
      ]
     },
     "metadata": {},
     "output_type": "display_data"
    }
   ],
   "source": [
    "#Clean the dataframe\n",
    "\n",
    "df_exp_by_count = pd.read_excel(\"Data/Exportations_par_pays.xlsx\")\n",
    "df_exp_by_count = df_exp_by_count.drop(['Unnamed: 0', 'Unnamed: 1'], axis = 1) #drop the first column\n",
    "header = [['Provenance']+[i for i in range(2022,1992,-1) for rep in range(2)],\n",
    "          [''] + ['Valeur','Poids'] * (len(list(df_exp_by_count.columns))//2)] #creating headers\n",
    "df_exp_by_count.columns = header\n",
    "\n",
    "df_exp_by_count = df_exp_by_count.drop(0, axis= 0) #drop the first row\n",
    "\n",
    "ignore = ['Provenance']\n",
    "df_exp_by_count = (df_exp_by_count.set_index(ignore, append=True)\n",
    "        .astype(float)\n",
    "        .reset_index(ignore)\n",
    "       )    #change data types except the first one\n",
    "df_exp_by_count.iloc[-1:,0] = 'Total' \n",
    "\n",
    "\n",
    "#sort data frame for the YEAR\n",
    "def sort_top_client(year):\n",
    "     #sort value by increasing order\n",
    "    client_exp_val = df_exp_by_count.loc[1:,list(df_exp_by_count.columns[1::2])]\n",
    "    client_exp_val = client_exp_val.droplevel(1,axis=1)\n",
    "    client_exp_val.insert(0, 'Provenance', list(df_exp_by_count['Provenance']))\n",
    "    client_exp_val = client_exp_val.sort_values(year,ascending = False)\n",
    "    return(client_exp_val)\n",
    "\n",
    "\n",
    "\n",
    "#graph function\n",
    "@interact(top = (1, len(df_exp_by_count) - 1),\n",
    "          year = [i for i in range(df_exp_by_count.set_index(['Provenance']).columns.min()[0] + 1,\n",
    "               df_exp_by_count.set_index(['Provenance']).columns.max()[0] + 1)])\n",
    "    \n",
    "def plot_top_client(top=5,year =2022):    \n",
    "    #colors vector for the bar\n",
    "    client_exp_val = sort_top_client(year)\n",
    "    colors = []\n",
    "    for i in range(len(list(client_exp_val['Provenance']))):\n",
    "        colors.append('#%06X' % randint(0, 0xFFFFFF))\n",
    "    \n",
    "\n",
    "    client_exp_val_plot = client_exp_val.iloc[1:top + 1,0:-1].plot.barh(x = 'Provenance', y = year, \n",
    "                                                          color = colors,\n",
    "                                                          edgecolor='black',figsize=(8,5))\n",
    "    plt.legend().remove()\n",
    "    plt.title(\"top \" + str(top) + \" des clients sur l'année \" + str(year)\n",
    "              , fontweight = \"bold\")\n",
    "    plt.xlabel('Valeur en Francs Pacifique')  \n",
    "    plt.show()\n",
    "\n"
   ]
  },
  {
   "cell_type": "markdown",
   "id": "3a5429fe-fa53-48c5-93da-ae5ca22e49ab",
   "metadata": {
    "jp-MarkdownHeadingCollapsed": true,
    "tags": []
   },
   "source": [
    "#### Barblot Fournisseur Polynésie française"
   ]
  },
  {
   "cell_type": "code",
   "execution_count": 14,
   "id": "04e5bec5-fc28-41fc-ae32-dde2bfd7696f",
   "metadata": {},
   "outputs": [
    {
     "data": {
      "application/vnd.jupyter.widget-view+json": {
       "model_id": "40be5ad88498476da509c570df17f566",
       "version_major": 2,
       "version_minor": 0
      },
      "text/plain": [
       "interactive(children=(IntSlider(value=5, description='top', max=250, min=1), Dropdown(description='year', inde…"
      ]
     },
     "metadata": {},
     "output_type": "display_data"
    }
   ],
   "source": [
    "#Clean the dataframe\n",
    "df_imp_by_count = pd.read_excel(\"Data/Importations_par_pays.xlsx\")\n",
    "df_imp_by_count = df_imp_by_count.drop(['Unnamed: 0', 'Unnamed: 1'], axis = 1) #drop the first column\n",
    "header = [['Provenance']+[i for i in range(2022,1992,-1) for rep in range(2)],\n",
    "          [''] + ['Valeur','Poids'] * (len(list(df_imp_by_count.columns))//2)] #creating headers\n",
    "df_imp_by_count.columns = header\n",
    "\n",
    "df_imp_by_count = df_imp_by_count.drop(0, axis= 0) #drop the first row\n",
    "\n",
    "ignore = ['Provenance']\n",
    "df_imp_by_count = (df_imp_by_count.set_index(ignore, append=True)\n",
    "        .astype(float)\n",
    "        .reset_index(ignore)\n",
    "       )    #change data types except the first one\n",
    "df_imp_by_count.iloc[-1:,0] = 'Total' \n",
    "\n",
    "\n",
    "#sort data frame for the YEAR\n",
    "def sort_top_fourn(year):\n",
    "     #sort value by increasing order\n",
    "    fourn_imp_val = df_imp_by_count.loc[1:,list(df_imp_by_count.columns[1::2])]\n",
    "    fourn_imp_val = fourn_imp_val.droplevel(1,axis=1)\n",
    "    fourn_imp_val.insert(0, 'Provenance', list(df_imp_by_count['Provenance']))\n",
    "    fourn_imp_val = fourn_imp_val.sort_values(year,ascending = False)\n",
    "    return(fourn_imp_val)\n",
    "\n",
    "\n",
    "\n",
    "#graph function\n",
    "@interact(top = (1, len(df_imp_by_count) - 1),\n",
    "          year = [i for i in range(df_imp_by_count.set_index(['Provenance']).columns.min()[0] + 1,\n",
    "               df_imp_by_count.set_index(['Provenance']).columns.max()[0] + 1)])\n",
    "    \n",
    "def plot_top_fourn(top=5,year =2022):    \n",
    "    #colors vector for the bar\n",
    "    fourn_imp_val = sort_top_fourn(year)\n",
    "    colors = []\n",
    "    for i in range(len(list(fourn_imp_val['Provenance']))):\n",
    "        colors.append('#%06X' % randint(0, 0xFFFFFF))\n",
    "    \n",
    "\n",
    "    fourn_imp_val_plot = fourn_imp_val.iloc[1:top + 1,0:-1].plot.barh(x = 'Provenance', y = year, \n",
    "                                                           edgecolor='black', \n",
    "                                                           color = colors,figsize=(8,5))\n",
    "    plt.legend().remove()\n",
    "    plt.title(\"top \" + str(top) + \" des fournisseurs sur l'année \" + str(year)\n",
    "              , fontweight = \"bold\")\n",
    "    plt.xlabel('Valeur en Francs Pacifique')\n",
    "\n",
    "    plt.show()"
   ]
  },
  {
   "cell_type": "markdown",
   "id": "8991648f-7f39-4cd8-9a4b-9e04201f8fa4",
   "metadata": {
    "tags": []
   },
   "source": [
    "## Le tourisme :"
   ]
  },
  {
   "cell_type": "markdown",
   "id": "c70262e3-a3d4-4ed1-8b3b-82a518fe775f",
   "metadata": {
    "tags": []
   },
   "source": [
    "#### Evolutions du nombre de touristes par an"
   ]
  },
  {
   "cell_type": "code",
   "execution_count": 15,
   "id": "fd7ae21b-7b71-4898-848c-f6a4b85e36c5",
   "metadata": {
    "tags": []
   },
   "outputs": [
    {
     "data": {
      "text/plain": [
       "<AxesSubplot:title={'center':'Evolution du nombre de touristes en Polynésie française'}, xlabel='Date'>"
      ]
     },
     "execution_count": 15,
     "metadata": {},
     "output_type": "execute_result"
    },
    {
     "data": {
      "image/png": "[encoded data removed]",
      "text/plain": [
       "<Figure size 720x360 with 1 Axes>"
      ]
     },
     "metadata": {},
     "output_type": "display_data"
    }
   ],
   "source": [
    "#loading data\n",
    "PATH = \"Cleaned_Data/Origin_tourists_per_continent.csv\" #data file\n",
    "Tourism = pd.read_csv(PATH)\n",
    "\n",
    "#display dataframe\n",
    "Tour=pd.DataFrame(Tourism.T[9]).T\n",
    "Tour.rename(index = {9:'Nombre de touristes'}, inplace = True)\n",
    "Tour.drop('continent', axis = 1, inplace = True)\n",
    "\n",
    "# Data cleaning\n",
    "Tour=pd.DataFrame(Tourism.T[9][1:])\n",
    "Tour=Tour.reset_index()\n",
    "Tour.rename(columns = {'index':'Date'}, inplace = True)\n",
    "Tour.rename(columns = {9:'Tourisme'}, inplace = True)\n",
    "Tour.drop(0, axis = 0, inplace = True)\n",
    "\n",
    "#plot dataframe\n",
    "Graph_Tour = Tour.plot(x='Date', y='Tourisme', figsize=(10,5), title='Evolution du nombre de touristes en Polynésie française')\n",
    "Graph_Tour\n",
    "#plt.savefig('Graphics_files/Evolution_tourisme.png')"
   ]
  },
  {
   "cell_type": "markdown",
   "id": "e92f09c8-fe34-4307-bf12-d58f01b48c02",
   "metadata": {
    "tags": []
   },
   "source": [
    "#### Graphique représentant la provenance des touristes par continents et par année"
   ]
  },
  {
   "cell_type": "code",
   "execution_count": 16,
   "id": "18dffbd3-5bf0-48d8-86a7-b3d0f1bea103",
   "metadata": {
    "tags": []
   },
   "outputs": [
    {
     "name": "stdout",
     "output_type": "stream",
     "text": [
      "AxesSubplot(0.125,0.125;0.775x0.755)\n"
     ]
    },
    {
     "data": {
      "image/png": "[encoded data removed]",
      "text/plain": [
       "<Figure size 1440x576 with 1 Axes>"
      ]
     },
     "metadata": {},
     "output_type": "display_data"
    }
   ],
   "source": [
    "#Graphique \n",
    "\n",
    "PATH = \"Cleaned_Data/Origin_tourists_per_continent.csv\" #data file\n",
    "df_Origin_tourists_raw = pd.read_csv(PATH)\n",
    "\n",
    "#Data_cleaning\n",
    "\n",
    "df_Origin_tourists_raw.drop('Unnamed: 0', axis=1, inplace=True)\n",
    "df_Origin_tourists_raw=df_Origin_tourists_raw.drop(9, axis=0)\n",
    "df_Origin_tourists_raw.index=df_Origin_tourists_raw['continent']\n",
    "df_Origin_tourists_raw=df_Origin_tourists_raw.drop('continent', axis=1)\n",
    "df_Origin_tourists_raw=df_Origin_tourists_raw.transpose()\n",
    "\n",
    "ax1 = df_Origin_tourists_raw.plot.bar(title=\"Provenance des touristes en Polynésie française de 2007 à 2022\", rot=70, figsize=(20,8))\n",
    "print(ax1)\n",
    "\n",
    "#plt.savefig('Graphics_files/Tourist_Origins_Raw.png')"
   ]
  },
  {
   "cell_type": "markdown",
   "id": "834d00f5-03d8-4f80-8f8e-4e97010dfcbe",
   "metadata": {
    "tags": []
   },
   "source": [
    "#### Graphique représentant la provenance des touristes par continents et par années en densité"
   ]
  },
  {
   "cell_type": "code",
   "execution_count": 17,
   "id": "c07b6406-4922-4a52-b00e-75a270f8f814",
   "metadata": {},
   "outputs": [
    {
     "name": "stderr",
     "output_type": "stream",
     "text": [
      "C:\\Users\\pully\\AppData\\Local\\Temp\\ipykernel_15820\\1418951488.py:12: SettingWithCopyWarning: \n",
      "A value is trying to be set on a copy of a slice from a DataFrame\n",
      "\n",
      "See the caveats in the documentation: https://pandas.pydata.org/pandas-docs/stable/user_guide/indexing.html#returning-a-view-versus-a-copy\n",
      "  df_Origin_tourists_density[i][k]=float(df_Origin_tourists_density[i][k])/float(df_Origin_tourists_density[i][9])\n"
     ]
    },
    {
     "name": "stdout",
     "output_type": "stream",
     "text": [
      "AxesSubplot(0.125,0.125;0.775x0.755)\n"
     ]
    },
    {
     "data": {
      "image/png": "[encoded data removed]",
      "text/plain": [
       "<Figure size 1440x576 with 1 Axes>"
      ]
     },
     "metadata": {},
     "output_type": "display_data"
    }
   ],
   "source": [
    "PATH = \"Cleaned_data/Origin_tourists_per_continent.csv\" #data file\n",
    "df_Origin_tourists_density = pd.read_csv(PATH)\n",
    "\n",
    "## Data cleaning\n",
    "df_Origin_tourists_density.drop('Unnamed: 0', axis=1, inplace=True)\n",
    "\n",
    "## Transformation en densité :\n",
    "\n",
    "k=0\n",
    "for i in df_Origin_tourists_density.columns[1:] :\n",
    "    for k in range (0,10):\n",
    "        df_Origin_tourists_density[i][k]=float(df_Origin_tourists_density[i][k])/float(df_Origin_tourists_density[i][9])\n",
    "df_Origin_tourists_density\n",
    "\n",
    "\n",
    "## Data cleaning\n",
    "\n",
    "df_Origin_tourists_density=df_Origin_tourists_density.drop(9, axis=0)\n",
    "df_Origin_tourists_density.index=df_Origin_tourists_density['continent']\n",
    "df_Origin_tourists_density=df_Origin_tourists_density.drop('continent', axis=1)\n",
    "df_Origin_tourists_density\n",
    "df_Origin_tourists_density=df_Origin_tourists_density.transpose()\n",
    "\n",
    "#Graphic\n",
    "plt.style.use('ggplot')\n",
    "ax = df_Origin_tourists_density.plot.bar(title=\"Proportions des différentes provenances des touristes entre 2007 et 2022 \", rot=70,stacked=True, figsize=(20,8))\n",
    "print(ax)\n",
    "\n",
    "#plt.savefig('Graphics_files/Tourist_Origins_Density.png')"
   ]
  },
  {
   "cell_type": "markdown",
   "id": "8f978aea-3d53-4808-8316-de7012cfff8e",
   "metadata": {
    "jp-MarkdownHeadingCollapsed": true,
    "tags": []
   },
   "source": [
    "#### Création de la carte représentant les différents pays de provenance des touristes"
   ]
  },
  {
   "cell_type": "code",
   "execution_count": 18,
   "id": "da806e68-961b-4906-83d0-ca5abd101308",
   "metadata": {
    "tags": []
   },
   "outputs": [
    {
     "data": {
      "text/html": [
       "<div>\n",
       "<style scoped>\n",
       "    .dataframe tbody tr th:only-of-type {\n",
       "        vertical-align: middle;\n",
       "    }\n",
       "\n",
       "    .dataframe tbody tr th {\n",
       "        vertical-align: top;\n",
       "    }\n",
       "\n",
       "    .dataframe thead th {\n",
       "        text-align: right;\n",
       "    }\n",
       "</style>\n",
       "<table border=\"1\" class=\"dataframe\">\n",
       "  <thead>\n",
       "    <tr style=\"text-align: right;\">\n",
       "      <th></th>\n",
       "      <th>Provenance</th>\n",
       "      <th>Latitude</th>\n",
       "      <th>Longitude</th>\n",
       "      <th>2007</th>\n",
       "      <th>2008</th>\n",
       "      <th>2009</th>\n",
       "      <th>2010</th>\n",
       "      <th>2011</th>\n",
       "      <th>2012</th>\n",
       "      <th>2013</th>\n",
       "      <th>2014</th>\n",
       "      <th>2015</th>\n",
       "      <th>2016</th>\n",
       "      <th>2017</th>\n",
       "      <th>2018</th>\n",
       "      <th>2019</th>\n",
       "      <th>2020</th>\n",
       "      <th>2021</th>\n",
       "      <th>2022</th>\n",
       "    </tr>\n",
       "  </thead>\n",
       "  <tbody>\n",
       "    <tr>\n",
       "      <th>0</th>\n",
       "      <td>Afrique</td>\n",
       "      <td>11.502434</td>\n",
       "      <td>17.757812</td>\n",
       "      <td>764</td>\n",
       "      <td>338</td>\n",
       "      <td>278</td>\n",
       "      <td>275</td>\n",
       "      <td>272</td>\n",
       "      <td>288</td>\n",
       "      <td>309</td>\n",
       "      <td>286</td>\n",
       "      <td>255</td>\n",
       "      <td>302</td>\n",
       "      <td>299</td>\n",
       "      <td>377</td>\n",
       "      <td>336</td>\n",
       "      <td>103</td>\n",
       "      <td>65.0</td>\n",
       "      <td>245</td>\n",
       "    </tr>\n",
       "    <tr>\n",
       "      <th>1</th>\n",
       "      <td>Mexique</td>\n",
       "      <td>23.658512</td>\n",
       "      <td>-102.007710</td>\n",
       "      <td>1373</td>\n",
       "      <td>1200</td>\n",
       "      <td>745</td>\n",
       "      <td>814</td>\n",
       "      <td>1033</td>\n",
       "      <td>1067</td>\n",
       "      <td>884</td>\n",
       "      <td>1010</td>\n",
       "      <td>1061</td>\n",
       "      <td>874</td>\n",
       "      <td>765</td>\n",
       "      <td>930</td>\n",
       "      <td>961</td>\n",
       "      <td>282</td>\n",
       "      <td>76.0</td>\n",
       "      <td>382</td>\n",
       "    </tr>\n",
       "    <tr>\n",
       "      <th>2</th>\n",
       "      <td>Canada</td>\n",
       "      <td>61.066692</td>\n",
       "      <td>-107.991707</td>\n",
       "      <td>7301</td>\n",
       "      <td>7271</td>\n",
       "      <td>4265</td>\n",
       "      <td>5468</td>\n",
       "      <td>7458</td>\n",
       "      <td>7034</td>\n",
       "      <td>7206</td>\n",
       "      <td>9270</td>\n",
       "      <td>8402</td>\n",
       "      <td>6326</td>\n",
       "      <td>6372</td>\n",
       "      <td>7846</td>\n",
       "      <td>7958</td>\n",
       "      <td>2019</td>\n",
       "      <td>1287.0</td>\n",
       "      <td>5854</td>\n",
       "    </tr>\n",
       "    <tr>\n",
       "      <th>3</th>\n",
       "      <td>USA</td>\n",
       "      <td>39.783730</td>\n",
       "      <td>-100.445882</td>\n",
       "      <td>65549</td>\n",
       "      <td>55362</td>\n",
       "      <td>40780</td>\n",
       "      <td>41020</td>\n",
       "      <td>49385</td>\n",
       "      <td>52858</td>\n",
       "      <td>53656</td>\n",
       "      <td>62278</td>\n",
       "      <td>63913</td>\n",
       "      <td>67908</td>\n",
       "      <td>68210</td>\n",
       "      <td>75693</td>\n",
       "      <td>88782</td>\n",
       "      <td>32286</td>\n",
       "      <td>40955.0</td>\n",
       "      <td>73326</td>\n",
       "    </tr>\n",
       "    <tr>\n",
       "      <th>4</th>\n",
       "      <td>Argentine</td>\n",
       "      <td>-34.996496</td>\n",
       "      <td>-64.967282</td>\n",
       "      <td>1797</td>\n",
       "      <td>1951</td>\n",
       "      <td>1433</td>\n",
       "      <td>1253</td>\n",
       "      <td>1098</td>\n",
       "      <td>1264</td>\n",
       "      <td>1087</td>\n",
       "      <td>840</td>\n",
       "      <td>974</td>\n",
       "      <td>2556</td>\n",
       "      <td>2121</td>\n",
       "      <td>2067</td>\n",
       "      <td>1073</td>\n",
       "      <td>249</td>\n",
       "      <td>32.0</td>\n",
       "      <td>147</td>\n",
       "    </tr>\n",
       "    <tr>\n",
       "      <th>5</th>\n",
       "      <td>Brésil</td>\n",
       "      <td>-10.333333</td>\n",
       "      <td>-53.200000</td>\n",
       "      <td>2654</td>\n",
       "      <td>2455</td>\n",
       "      <td>2047</td>\n",
       "      <td>2360</td>\n",
       "      <td>2530</td>\n",
       "      <td>2787</td>\n",
       "      <td>3064</td>\n",
       "      <td>2767</td>\n",
       "      <td>2357</td>\n",
       "      <td>1516</td>\n",
       "      <td>1997</td>\n",
       "      <td>1788</td>\n",
       "      <td>1871</td>\n",
       "      <td>236</td>\n",
       "      <td>34.0</td>\n",
       "      <td>413</td>\n",
       "    </tr>\n",
       "    <tr>\n",
       "      <th>6</th>\n",
       "      <td>Chili</td>\n",
       "      <td>-31.761336</td>\n",
       "      <td>-71.318770</td>\n",
       "      <td>1864</td>\n",
       "      <td>1585</td>\n",
       "      <td>1706</td>\n",
       "      <td>1849</td>\n",
       "      <td>1328</td>\n",
       "      <td>1328</td>\n",
       "      <td>1624</td>\n",
       "      <td>1421</td>\n",
       "      <td>1731</td>\n",
       "      <td>2027</td>\n",
       "      <td>1958</td>\n",
       "      <td>2018</td>\n",
       "      <td>2456</td>\n",
       "      <td>403</td>\n",
       "      <td>28.0</td>\n",
       "      <td>139</td>\n",
       "    </tr>\n",
       "    <tr>\n",
       "      <th>7</th>\n",
       "      <td>Chine</td>\n",
       "      <td>35.000074</td>\n",
       "      <td>104.999927</td>\n",
       "      <td>440</td>\n",
       "      <td>388</td>\n",
       "      <td>543</td>\n",
       "      <td>1143</td>\n",
       "      <td>978</td>\n",
       "      <td>1183</td>\n",
       "      <td>1876</td>\n",
       "      <td>3268</td>\n",
       "      <td>5555</td>\n",
       "      <td>5987</td>\n",
       "      <td>5430</td>\n",
       "      <td>5055</td>\n",
       "      <td>3345</td>\n",
       "      <td>638</td>\n",
       "      <td>18.0</td>\n",
       "      <td>107</td>\n",
       "    </tr>\n",
       "    <tr>\n",
       "      <th>8</th>\n",
       "      <td>Corée du sud</td>\n",
       "      <td>36.638392</td>\n",
       "      <td>127.696119</td>\n",
       "      <td>571</td>\n",
       "      <td>650</td>\n",
       "      <td>765</td>\n",
       "      <td>686</td>\n",
       "      <td>506</td>\n",
       "      <td>682</td>\n",
       "      <td>568</td>\n",
       "      <td>746</td>\n",
       "      <td>1020</td>\n",
       "      <td>1170</td>\n",
       "      <td>1075</td>\n",
       "      <td>1051</td>\n",
       "      <td>1034</td>\n",
       "      <td>146</td>\n",
       "      <td>33.0</td>\n",
       "      <td>142</td>\n",
       "    </tr>\n",
       "    <tr>\n",
       "      <th>9</th>\n",
       "      <td>Hong Kong</td>\n",
       "      <td>22.279328</td>\n",
       "      <td>114.162813</td>\n",
       "      <td>140</td>\n",
       "      <td>259</td>\n",
       "      <td>99</td>\n",
       "      <td>1</td>\n",
       "      <td>214</td>\n",
       "      <td>301</td>\n",
       "      <td>240</td>\n",
       "      <td>453</td>\n",
       "      <td>469</td>\n",
       "      <td>359</td>\n",
       "      <td>370</td>\n",
       "      <td>368</td>\n",
       "      <td>415</td>\n",
       "      <td>89</td>\n",
       "      <td>12.0</td>\n",
       "      <td>36</td>\n",
       "    </tr>\n",
       "  </tbody>\n",
       "</table>\n",
       "</div>"
      ],
      "text/plain": [
       "     Provenance   Latitude   Longitude   2007   2008   2009   2010   2011  \\\n",
       "0       Afrique  11.502434   17.757812    764    338    278    275    272   \n",
       "1       Mexique  23.658512 -102.007710   1373   1200    745    814   1033   \n",
       "2        Canada  61.066692 -107.991707   7301   7271   4265   5468   7458   \n",
       "3           USA  39.783730 -100.445882  65549  55362  40780  41020  49385   \n",
       "4     Argentine -34.996496  -64.967282   1797   1951   1433   1253   1098   \n",
       "5        Brésil -10.333333  -53.200000   2654   2455   2047   2360   2530   \n",
       "6         Chili -31.761336  -71.318770   1864   1585   1706   1849   1328   \n",
       "7         Chine  35.000074  104.999927    440    388    543   1143    978   \n",
       "8  Corée du sud  36.638392  127.696119    571    650    765    686    506   \n",
       "9     Hong Kong  22.279328  114.162813    140    259     99      1    214   \n",
       "\n",
       "    2012   2013   2014   2015   2016   2017   2018   2019   2020     2021  \\\n",
       "0    288    309    286    255    302    299    377    336    103     65.0   \n",
       "1   1067    884   1010   1061    874    765    930    961    282     76.0   \n",
       "2   7034   7206   9270   8402   6326   6372   7846   7958   2019   1287.0   \n",
       "3  52858  53656  62278  63913  67908  68210  75693  88782  32286  40955.0   \n",
       "4   1264   1087    840    974   2556   2121   2067   1073    249     32.0   \n",
       "5   2787   3064   2767   2357   1516   1997   1788   1871    236     34.0   \n",
       "6   1328   1624   1421   1731   2027   1958   2018   2456    403     28.0   \n",
       "7   1183   1876   3268   5555   5987   5430   5055   3345    638     18.0   \n",
       "8    682    568    746   1020   1170   1075   1051   1034    146     33.0   \n",
       "9    301    240    453    469    359    370    368    415     89     12.0   \n",
       "\n",
       "    2022  \n",
       "0    245  \n",
       "1    382  \n",
       "2   5854  \n",
       "3  73326  \n",
       "4    147  \n",
       "5    413  \n",
       "6    139  \n",
       "7    107  \n",
       "8    142  \n",
       "9     36  "
      ]
     },
     "execution_count": 18,
     "metadata": {},
     "output_type": "execute_result"
    }
   ],
   "source": [
    "# Obtaining data\n",
    "\n",
    "PATH = \"Cleaned_Data/Origin_tourism_cleaned.csv\" #data file\n",
    "df = pd.read_csv(PATH,sep = ',')\n",
    "\n",
    "\n",
    "# Data cleaning\n",
    "\n",
    "df.drop('Grand Total',axis=1 ,inplace=True)\n",
    "df.drop(41,axis=0 ,inplace=True)\n",
    "df = df.reset_index()\n",
    "df.drop('index',axis=1 ,inplace=True)\n",
    "df.iloc[35,0]=\"Îles Cook\"\n",
    "\n",
    "\n",
    "# Addition of the GPS coordinates of each issuing country:\n",
    "\n",
    "loc = Nominatim(user_agent=\"GetLoc\")\n",
    "\n",
    "#Algorithm to get the longitude and latitude of each country in our list\n",
    "Lat=[]\n",
    "Long=[]\n",
    "\n",
    "for i in range (0,len(df['Provenance'])) :\n",
    "    getLoc = loc.geocode(df['Provenance'][i])\n",
    "    Lat.append(getLoc.latitude)\n",
    "    Long.append(getLoc.longitude)\n",
    "\n",
    "    \n",
    "    \n",
    "\n",
    "# Added Latitude and Longitude columns: \n",
    "\n",
    "df.insert(1, \"Longitude\", Long)\n",
    "df.insert(1, \"Latitude\", Lat)\n",
    "\n",
    "#df.to_csv('Cleaned_data/df_map_tourists.csv')\n",
    "\n",
    "df.head(10)"
   ]
  },
  {
   "cell_type": "code",
   "execution_count": 19,
   "id": "10d54c0f-0cb3-417f-b895-ca4cb26493f2",
   "metadata": {
    "tags": []
   },
   "outputs": [
    {
     "data": {
      "application/vnd.jupyter.widget-view+json": {
       "model_id": "2958d891760b44b9b413ff6d80e9f008",
       "version_major": 2,
       "version_minor": 0
      },
      "text/plain": [
       "interactive(children=(IntSlider(value=2014, description='n', max=2022, min=2007), Output()), _dom_classes=('wi…"
      ]
     },
     "metadata": {},
     "output_type": "display_data"
    }
   ],
   "source": [
    "# Choice of the year to visualize\n",
    "\n",
    "@interact(n=(2007,2022))\n",
    "\n",
    "def affichage_carte_Provenance_tourisme(n): \n",
    "    import folium\n",
    "    \n",
    "    ##Map creation\n",
    "    Provenance_tourisme = folium.Map(location=[32.30230141364259, 9.042608177267951], zoom_start=1.5)\n",
    "\n",
    "    \n",
    "\n",
    "    #Differentiate the markers by colors on the different quantiles\n",
    "    COLOR=['beige','orange','red','darkred', 'black']\n",
    "    \n",
    "    for i in range (0,len(df['Provenance'])) :\n",
    "\n",
    "        if df[str(n)][i] <= df[str(n)].quantile(q=0.2) :\n",
    "            c=COLOR[0]\n",
    "\n",
    "        if df[str(n)].quantile(q=0.2) < df[str(n)][i] <= df[str(n)].quantile(q=0.4) :\n",
    "            c=COLOR[1]\n",
    "\n",
    "        if df[str(n)].quantile(q=0.4) < df[str(n)][i] <= df[str(n)].quantile(q=0.6) :\n",
    "            c=COLOR[2]\n",
    "\n",
    "        if df[str(n)].quantile(q=0.6) < df[str(n)][i] <= df[str(n)].quantile(q=0.8) :\n",
    "            c=COLOR[3]\n",
    "\n",
    "        if df[str(n)].quantile(q=0.8) < df[str(n)][i] <= df[str(n)].quantile(q=1) :\n",
    "            c=COLOR[4]\n",
    "\n",
    "    #Adding markers\n",
    "        folium.Marker([df['Latitude'][i], df['Longitude'][i]], tooltip= \" <br> \".join([df['Provenance'][i], str(df[str(n)][i])]), icon=folium.Icon(color=c) ).add_to(Provenance_tourisme)\n",
    "    Provenance_tourisme.save('Graphics_files/Provenance_tourisme.html')\n",
    "    \n",
    "    #Display map\n",
    "    return IFrame(src='Graphics_files/Provenance_tourisme.html', width=700, height=600)"
   ]
  },
  {
   "cell_type": "markdown",
   "id": "579fb05a-3062-460b-bbff-40316b081057",
   "metadata": {
    "tags": []
   },
   "source": [
    "## Conclusion : "
   ]
  },
  {
   "cell_type": "markdown",
   "id": "8f009a5d-7e37-4f4e-8aaf-24375fecf22f",
   "metadata": {
    "tags": []
   },
   "source": [
    "#### Pie chart PIB total avec TOUR et EXP"
   ]
  },
  {
   "cell_type": "code",
   "execution_count": 21,
   "id": "51258f76-e8a9-4a33-bbcf-5d70ffbd4e85",
   "metadata": {},
   "outputs": [
    {
     "data": {
      "application/vnd.jupyter.widget-view+json": {
       "model_id": "d985ea3eadfe4c32887c6524c5f1082b",
       "version_major": 2,
       "version_minor": 0
      },
      "text/plain": [
       "interactive(children=(Dropdown(description='year', index=4, options=(2005, 2007, 2009, 2011, 2013), value=2013…"
      ]
     },
     "metadata": {},
     "output_type": "display_data"
    }
   ],
   "source": [
    "pib_tour_exp = pd.read_csv('Cleaned_Data/PIB_EXP_TOUR.csv')\n",
    "pib_tour_exp.drop('Unnamed: 0', axis=1, inplace=True)\n",
    "col = []\n",
    "for i in range(0,len(pib_tour_exp.iloc[:,1])):\n",
    "     col.append(int(pib_tour_exp.iloc[i,1].replace(' ','')) * 1000000)\n",
    "pib_tour_exp['Autres'] = col - (pib_tour_exp['Valeur Exports'] + pib_tour_exp['Tourisme'])\n",
    "pib_tour_exp = pib_tour_exp.set_index('Date').T\n",
    "\n",
    "\n",
    "# pie chart of the top_n element of a given year\n",
    "@interact(year = list(pib_tour_exp.columns))\n",
    "\n",
    "def pie_chart_exp(year = 2013):\n",
    "    colors = (\"salmon\", \"orange\", \"lightblue\")\n",
    "    row_pie = [i for i in range(1,pib_tour_exp.shape[0])] #select the element to show into the pie chart\n",
    "    #pie chart code\n",
    "    explode = [0.2] * len(row_pie) #space beteween each part of the pie chart\n",
    "    pib_tour_exp.iloc[row_pie].plot.pie(y = year, subplots = True,figsize = (7,7)\n",
    "                               ,autopct='%.1f%%', explode = explode,\n",
    "                                labeldistance = None, shadow = True,\n",
    "                                       colors = colors)\n",
    "    plt.title(\"Part du tourisme et des exporations dans le PIB en \" + str(year)\n",
    "             , fontweight = \"bold\", fontsize= 14)\n",
    "    plt.legend(bbox_to_anchor = (1,0.5),loc = 'center left',fontsize = 10)\n",
    "    plt.show()"
   ]
  },
  {
   "cell_type": "code",
   "execution_count": null,
   "id": "a932c9f9-a3e0-4af5-98fe-81a3637cb2cd",
   "metadata": {},
   "outputs": [],
   "source": []
  }
 ],
 "metadata": {
  "kernelspec": {
   "display_name": "Python 3 (ipykernel)",
   "language": "python",
   "name": "python3"
  },
  "language_info": {
   "codemirror_mode": {
    "name": "ipython",
    "version": 3
   },
   "file_extension": ".py",
   "mimetype": "text/x-python",
   "name": "python",
   "nbconvert_exporter": "python",
   "pygments_lexer": "ipython3",
   "version": "3.9.12"
  }
 },
 "nbformat": 4,
 "nbformat_minor": 5
}

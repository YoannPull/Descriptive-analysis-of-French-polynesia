{
 "cells": [
  {
   "cell_type": "markdown",
   "id": "b9c660bc-7537-4339-9291-a521319c4de3",
   "metadata": {
    "tags": []
   },
   "source": [
    "# Data Cleaning"
   ]
  },
  {
   "cell_type": "markdown",
   "id": "f328c1b7-bdd5-4ffa-b2ce-0c313b05e10a",
   "metadata": {
    "jp-MarkdownHeadingCollapsed": true,
    "tags": []
   },
   "source": [
    "## I) Importations des packages et chargement des données"
   ]
  },
  {
   "cell_type": "code",
   "execution_count": 1,
   "id": "d01fb4ad-7d78-42f4-bcc0-234b5d92e53c",
   "metadata": {
    "tags": []
   },
   "outputs": [],
   "source": [
    "#import packages\n",
    "import numpy as np # import du package 'numpy' avec alias 'np' \n",
    "import pandas as pd # import du package 'pandas' avec alias 'pd'\n",
    "from import_function.tools import show # import de la fonction 'show'\n",
    "from ipywidgets import interact\n",
    "from random import randint\n",
    "import matplotlib.pyplot as plt\n",
    "\n",
    "#Load Data\n",
    "\n",
    "df_Origin_tourists = pd.read_excel(\"Data/Origin_tourists.xlsx\")\n",
    "df_main = pd.read_csv(\"Data/econ1016.csv\", sep = ';')\n",
    "df_pib = pd.read_excel(\"Data/PIB.xlsx\")\n",
    "df_tour = pd.read_excel(\"Data/Provenance_tourisme.xlsx\")\n",
    "df_exp_by_count = pd.read_excel(\"Data/Exportations_par_pays.xlsx\")\n",
    "df_imp_by_count = pd.read_excel(\"Data/Importations_par_pays.xlsx\")\n",
    "df_prod_exp = pd.read_excel(\"Data/produit_exp.xlsx\") \n",
    "df_prod_imp = pd.read_excel(\"Data/produit_imp.xlsx\")\n",
    "\n",
    "\n",
    "pd.set_option('display.float_format', lambda x: '%.0f' % x)  #change the scientific format into a \"normal\" format\n",
    "plt.style.use('ggplot') #graph style"
   ]
  },
  {
   "cell_type": "markdown",
   "id": "bb2c2bc7-7317-4311-8a0b-4d1d44c78201",
   "metadata": {
    "tags": []
   },
   "source": [
    "## II) Nettoyage des données"
   ]
  },
  {
   "cell_type": "markdown",
   "id": "e290fb69-3512-40e7-a59e-3c9432adedb4",
   "metadata": {
    "jp-MarkdownHeadingCollapsed": true,
    "tags": []
   },
   "source": [
    "### Nettoyage des dataframe sur les importations et les exportations"
   ]
  },
  {
   "cell_type": "markdown",
   "id": "675e1050-d3df-4f52-8e7b-1e42e2c38193",
   "metadata": {
    "jp-MarkdownHeadingCollapsed": true,
    "tags": []
   },
   "source": [
    "#### 1) Dataframe sur l'importations par pays"
   ]
  },
  {
   "cell_type": "markdown",
   "id": "6b814416-2419-4bf9-a497-6a0877e3d9e8",
   "metadata": {
    "jp-MarkdownHeadingCollapsed": true,
    "tags": []
   },
   "source": [
    "##### a) Importation par pays"
   ]
  },
  {
   "cell_type": "code",
   "execution_count": 2,
   "id": "86382c80-e534-420c-80b4-2ba086c319f5",
   "metadata": {
    "tags": []
   },
   "outputs": [],
   "source": [
    "#to restart the cleaning process reload this line :\n",
    "df_imp_by_count = pd.read_excel(\"Data/Exportations_par_pays.xlsx\")\n",
    "\n",
    "#Init table\n",
    "##display(df_imp_by_count.head(2))\n",
    "##display(df_imp_by_count.tail(2))\n",
    "\n",
    "#check NA\n",
    "##display(df_imp_by_count.isnull().values.sum())\n",
    "\n",
    "#drop the first two columns\n",
    "df_imp_by_count = df_imp_by_count.drop(['Unnamed: 0','Unnamed: 1'], axis = 1)\n",
    "\n",
    "#creating headers :\n",
    "header = [['Provenance']+[i for i in range(2022,1992,-1) for rep in range(2)],['']\n",
    "          + ['Valeur','Poids'] * (len(list(df_imp_by_count.columns))//2)]\n",
    "df_imp_by_count.columns = header\n",
    "\n",
    "#drop the first row\n",
    "df_imp_by_count = df_imp_by_count.drop(0, axis= 0)\n",
    "\n",
    "#checking dtypes\n",
    "df_imp_by_count.dtypes\n",
    "\n",
    "#change the data types\n",
    "for i in range(2022,1992,-1):\n",
    "    df_imp_by_count[i] = df_imp_by_count[i].astype(float)\n",
    "    \n",
    "#it seems that the last row are the total of the given column\n",
    "sum(df_imp_by_count.iloc[0:-1,1]) == df_imp_by_count.iloc[-1:,1]\n",
    "\n",
    "#rename the last row\n",
    "df_exp_by_count.iloc[-1:,0] = 'Total'\n"
   ]
  },
  {
   "cell_type": "code",
   "execution_count": 3,
   "id": "9e456d38-4b5c-4574-b91c-d43b55af8497",
   "metadata": {},
   "outputs": [],
   "source": [
    "#final dataframe\n",
    "#display(df_imp_by_count.head(2))\n",
    "#display(df_imp_by_count.tail(2))"
   ]
  },
  {
   "cell_type": "code",
   "execution_count": 4,
   "id": "f3a1ecde-6246-499c-843c-c1245b9a716f",
   "metadata": {},
   "outputs": [],
   "source": [
    "df_imp_by_count.to_csv('Cleaned_Data/Importations_par_pays.csv')"
   ]
  },
  {
   "cell_type": "markdown",
   "id": "931ac03d-4d1e-4bec-982d-46e6a5f10057",
   "metadata": {
    "tags": []
   },
   "source": [
    "##### b) Produit Importés"
   ]
  },
  {
   "cell_type": "markdown",
   "id": "54a5c677-0309-484d-acf9-33960e95e015",
   "metadata": {
    "jp-MarkdownHeadingCollapsed": true,
    "tags": []
   },
   "source": [
    "#### 2) Data frame sur l'exportation"
   ]
  },
  {
   "cell_type": "markdown",
   "id": "c53dcbf3-1367-4911-94b0-f9b28c8b6f7a",
   "metadata": {
    "jp-MarkdownHeadingCollapsed": true,
    "tags": []
   },
   "source": [
    "##### a) Produit exportés"
   ]
  },
  {
   "cell_type": "code",
   "execution_count": 5,
   "id": "1203e888-93f3-49dd-a93e-2001d53ab17f",
   "metadata": {},
   "outputs": [],
   "source": [
    "##to restart the cleaning process reload this line :\n",
    "#df_prod_exp = pd.read_excel(\"Data/produit_exp.xlsx\")\n",
    "\n",
    "##show data\n",
    "#display(df_prod_exp.head(5))\n",
    "#display(df_prod_exp.tail(5))\n",
    "\n",
    "#Rename the first column and drop the first row\n",
    "df_prod_exp.rename(columns = {'Unnamed: 0':'Produit'}, inplace = True)\n",
    "df_prod_exp = df_prod_exp.drop(0, axis = 0)\n",
    "\n",
    "##checking data types\n",
    "#display(df_prod_exp.dtypes)\n",
    "\n",
    "#change data type of each columns\n",
    "ignore = ['Produit']\n",
    "df_prod_exp = (df_prod_exp.set_index(ignore, append=True)\n",
    "        .astype(float)\n",
    "        .reset_index(ignore))\n",
    "\n",
    "##result data frame\n",
    "#display(df_prod_exp.head(12))\n",
    "#display(df_prod_exp.tail(2))\n",
    "\n",
    "#df_prod_exp.to_csv('Cleaned_Data/produit_exp_cleaned.csv')"
   ]
  },
  {
   "cell_type": "code",
   "execution_count": 6,
   "id": "6436e214-b20e-437f-956b-ee8403e87505",
   "metadata": {
    "tags": []
   },
   "outputs": [],
   "source": [
    "#to restart the cleaning process reload this line :\n",
    "df_prod_imp = pd.read_excel(\"Data/produit_imp.xlsx\")\n",
    "\n",
    "##show data\n",
    "#display(df_prod_imp.head(5))\n",
    "#display(df_prod_imp.tail(5))\n",
    "\n",
    "#Rename the first column and drop the first row\n",
    "df_prod_imp.rename(columns = {'Unnamed: 0':'Produit'}, inplace = True)\n",
    "df_prod_imp = df_prod_imp.drop(0, axis = 0)\n",
    "\n",
    "#df_prod_imp.dtypes\n",
    "#change data type of each columns\n",
    "ignore = ['Produit']\n",
    "df_prod_imp = (df_prod_imp.set_index(ignore, append=True)\n",
    "        .astype(float)\n",
    "        .reset_index(ignore))\n",
    "df_prod_imp = df_prod_imp.set_index(ignore)\n",
    "\n",
    "#final dataframe\n",
    "#display(df_prod_imp.head())\n",
    "#display(df_prod_imp.tail())\n",
    "\n"
   ]
  },
  {
   "cell_type": "code",
   "execution_count": 7,
   "id": "d8382bd1-9ee8-4a1b-a757-9a2d428c2735",
   "metadata": {},
   "outputs": [
    {
     "ename": "NameError",
     "evalue": "name 'pie_prod_imp' is not defined",
     "output_type": "error",
     "traceback": [
      "\u001b[1;31m---------------------------------------------------------------------------\u001b[0m",
      "\u001b[1;31mNameError\u001b[0m                                 Traceback (most recent call last)",
      "Input \u001b[1;32mIn [7]\u001b[0m, in \u001b[0;36m<cell line: 11>\u001b[1;34m()\u001b[0m\n\u001b[0;32m      8\u001b[0m     \u001b[38;5;28;01mreturn\u001b[39;00m(pie_prod_imp)\n\u001b[0;32m     10\u001b[0m \u001b[38;5;66;03m#pie chart of the top_n element of a given year\u001b[39;00m\n\u001b[1;32m---> 11\u001b[0m \u001b[38;5;129m@interact\u001b[39m(top \u001b[38;5;241m=\u001b[39m (\u001b[38;5;241m1\u001b[39m, \u001b[38;5;28mlen\u001b[39m(df_prod_imp) \u001b[38;5;241m-\u001b[39m \u001b[38;5;241m1\u001b[39m), year \u001b[38;5;241m=\u001b[39m \u001b[38;5;28mlist\u001b[39m(\u001b[43mpie_prod_imp\u001b[49m\u001b[38;5;241m.\u001b[39mcolumns))\n\u001b[0;32m     12\u001b[0m \n\u001b[0;32m     13\u001b[0m \u001b[38;5;28;01mdef\u001b[39;00m \u001b[38;5;21mpie_chart_imp\u001b[39m(top \u001b[38;5;241m=\u001b[39m \u001b[38;5;241m7\u001b[39m, year \u001b[38;5;241m=\u001b[39m \u001b[38;5;124m'\u001b[39m\u001b[38;5;124m2022\u001b[39m\u001b[38;5;124m'\u001b[39m):\n\u001b[0;32m     14\u001b[0m     pie_prod_imp \u001b[38;5;241m=\u001b[39m top_prod(top \u001b[38;5;241m+\u001b[39m \u001b[38;5;241m1\u001b[39m, year)\n\u001b[0;32m     15\u001b[0m     row_pie \u001b[38;5;241m=\u001b[39m [i \u001b[38;5;28;01mfor\u001b[39;00m i \u001b[38;5;129;01min\u001b[39;00m \u001b[38;5;28mrange\u001b[39m(\u001b[38;5;241m1\u001b[39m,top \u001b[38;5;241m+\u001b[39m \u001b[38;5;241m1\u001b[39m)] \u001b[38;5;66;03m#select the element to show into the pie chart\u001b[39;00m\n",
      "\u001b[1;31mNameError\u001b[0m: name 'pie_prod_imp' is not defined"
     ]
    }
   ],
   "source": [
    "#sort the top_n for a given year\n",
    "def top_prod(n,year):\n",
    "    pie_prod_imp = df_prod_imp.sort_values(year, ascending = False)\n",
    "    if n >= len(pie_prod_imp):\n",
    "        return( 'Error, there is only ' + str(len(df_prod_imp)) + ' imported products')\n",
    "    else:\n",
    "        pie_prod_imp.loc['Autres'] = list(pie_prod_imp.loc['Grand Total'] -  pie_prod_imp[1:n].sum(axis = 0))\n",
    "    return(pie_prod_imp)\n",
    "\n",
    "#pie chart of the top_n element of a given year\n",
    "@interact(top = (1, len(df_prod_imp) - 1), year = list(pie_prod_imp.columns))\n",
    "\n",
    "def pie_chart_imp(top = 7, year = '2022'):\n",
    "    pie_prod_imp = top_prod(top + 1, year)\n",
    "    row_pie = [i for i in range(1,top + 1)] #select the element to show into the pie chart\n",
    "    row_pie.append(len(pie_prod_imp) - 1)\n",
    "    #pie chart code\n",
    "    explode = [0.03] * (top + 1) #space beteween each part of the pie chart\n",
    "    pie_prod_imp.iloc[row_pie].plot.pie(y = year, subplots = True,figsize = (8,8)\n",
    "                               ,autopct='%.1f%%', labeldistance = None,  explode = explode, shadow = True)\n",
    "    plt.title(\"Top \" + str(top) +  \" des produits importés en \" + year \n",
    "              , fontweight = \"bold\")\n",
    "    plt.legend(bbox_to_anchor = (1,0.5),loc = 'center left',fontsize = 10)\n",
    " "
   ]
  },
  {
   "cell_type": "markdown",
   "id": "ac6d75c7-142a-4ddb-83a2-cbbe9a895b7d",
   "metadata": {
    "jp-MarkdownHeadingCollapsed": true,
    "tags": []
   },
   "source": [
    "##### b) Exportation par pays"
   ]
  },
  {
   "cell_type": "code",
   "execution_count": null,
   "id": "5921e627-f326-4305-8ce6-d79e55945757",
   "metadata": {
    "tags": []
   },
   "outputs": [],
   "source": [
    "#to restart the cleaning process load this line :\n",
    "df_exp_by_count = pd.read_excel(\"Data/Exportations_par_pays.xlsx\")\n",
    "\n",
    "#Init table\n",
    "##display(df_exp_by_count.head(2))\n",
    "##display(df_exp_by_count.tail(2))\n",
    "\n",
    "#check NA\n",
    "##display(df_exp_by_count.isnull().values.sum())\n",
    "\n",
    "#drop the first two columns\n",
    "df_exp_by_count = df_exp_by_count.drop(['Unnamed: 0','Unnamed: 1'], axis = 1)\n",
    "\n",
    "#creating headers :\n",
    "header = [['Provenance']+[i for i in range(2022,1992,-1) for rep in range(2)],['']\n",
    "          + ['Valeur','Poids'] * (len(list(df_exp_by_count.columns))//2)]\n",
    "df_exp_by_count.columns = header\n",
    "\n",
    "#drop the first row\n",
    "df_exp_by_count = df_exp_by_count.drop(0, axis= 0)\n",
    "\n",
    "#checking dtypes\n",
    "df_exp_by_count.dtypes\n",
    "\n",
    "#change the data types\n",
    "for i in range(2022,1992,-1):\n",
    "    df_exp_by_count[i] = df_exp_by_count[i].astype(float)\n",
    "    \n",
    "#it seems that the last row are the total of the given column\n",
    "sum(df_exp_by_count.iloc[0:-1,1]) == df_exp_by_count.iloc[-1:,1]\n",
    "\n",
    "#rename the last row\n",
    "df_exp_by_count.iloc[-1:,0] = 'Total'"
   ]
  },
  {
   "cell_type": "code",
   "execution_count": null,
   "id": "b37c21e5-6e6c-4f2e-87a0-1145b85fe0a1",
   "metadata": {},
   "outputs": [],
   "source": [
    "#display(df_exp_by_count.head(2))\n",
    "#display(df_exp_by_count.tail(2))"
   ]
  },
  {
   "cell_type": "code",
   "execution_count": null,
   "id": "58acaef6-26f0-4e61-98ef-6b79d2a3e841",
   "metadata": {},
   "outputs": [],
   "source": [
    "df_exp_by_count.to_csv('Cleaned_Data/Exportations_par_pays.csv')"
   ]
  },
  {
   "cell_type": "markdown",
   "id": "673bb2a1-b993-4200-8690-0429fde0e381",
   "metadata": {
    "tags": []
   },
   "source": [
    "### Nettoyage des dataframe sur le tourisme"
   ]
  },
  {
   "cell_type": "markdown",
   "id": "d4a59066-96f0-4a61-88cb-89b94611b6d3",
   "metadata": {
    "jp-MarkdownHeadingCollapsed": true,
    "tags": []
   },
   "source": [
    "#### a) Nettoyage du fichier \"Provenance_tourisme.xlsx\""
   ]
  },
  {
   "cell_type": "code",
   "execution_count": null,
   "id": "6fed2eda-50a4-483b-84da-7297c0789f8e",
   "metadata": {},
   "outputs": [],
   "source": [
    "#to restart the cleaning process load this line :\n",
    "df_tour = pd.read_excel(\"Data/Provenance_tourisme.xlsx\")\n",
    "#initial data frame\n",
    "##df_tour.head(2)\n",
    "##df_tour.tail(2)\n",
    "#rename all the NaN with the total of the country above\n",
    "c = 0\n",
    "for i in list(df_tour.isna()['Unnamed: 1']):\n",
    "    if i:\n",
    "        df_tour.loc[c,'Unnamed: 1'] = df_tour.loc[c, 'Unnamed: 0']\n",
    "    c += 1\n",
    "df_tour = df_tour.rename(columns =  {'Unnamed: 1':'Provenance'})\n",
    "\n",
    "#drop the first column\n",
    "df_tour = df_tour.drop('Unnamed: 0', axis = 1)\n",
    "\n",
    "df_tour = df_tour.set_index('Provenance')\n",
    "\n",
    "#keep only country and drop all total row\n",
    "for i in list(df_tour.index):\n",
    "    if 'Total' in i or 'Autre' in i:\n",
    "        df_tour = df_tour.drop(labels = i, axis = 0)\n",
    "   \n",
    "#export the data frame\n",
    "#df_tour.to_csv('Cleaned_Data/Origin_tourism_cleaned.csv')"
   ]
  },
  {
   "cell_type": "markdown",
   "id": "2fe9b1c0-b7de-4c4a-985a-d117822aa78c",
   "metadata": {
    "jp-MarkdownHeadingCollapsed": true,
    "tags": []
   },
   "source": [
    "#### b) Nettoyage du fichier \"Origin_tourists.xlsx\""
   ]
  },
  {
   "cell_type": "code",
   "execution_count": null,
   "id": "a01007a1-6503-45be-988c-951d98d77262",
   "metadata": {},
   "outputs": [],
   "source": [
    "##to restart the cleaning process reload this line :\n",
    "df_Origin_tourists = pd.read_excel(\"Data/Origin_tourists.xlsx\")\n",
    "\n",
    "\n",
    "##initial dataframe\n",
    "#display(df_Origin_tourists.head(2))\n",
    "#display(df_Origin_tourists.tail(2))\n",
    "\n",
    "\n",
    "#Suppression de tous les Unnamed, organisation du noms des colonnes\n",
    "\n",
    "k=0\n",
    "Index=[]\n",
    "for i in df_Origin_tourists.columns : \n",
    "    v=str(k)\n",
    "    if i == \" \".join(('Unnamed:' ,v)) : \n",
    "        Index.append(df_Origin_tourists.iloc[0,k])\n",
    "    else : \n",
    "        Index.append(i)\n",
    "    k=k+1\n",
    "    \n",
    "Index[0]='continent'\n",
    "Index[1]='pays'\n",
    "df_Origin_tourists.columns = Index\n",
    "\n",
    "\n",
    "#On supprime la première ligne (c'est notre index mtn donc on l'a en double)\n",
    "df_Origin_tourists = df_Origin_tourists.drop(0)\n",
    "\n",
    "\n",
    "#On garde seulement les continents, pas les détails sur tous les pays : \n",
    "\n",
    "df_Origin_tourists['pays'] = df_Origin_tourists['pays'].replace(np.nan, 'AAA')\n",
    "df_Origin_tourists[df_Origin_tourists['pays']=='AAA'].index\n",
    "df_Origin_tourists = df_Origin_tourists.drop(df_Origin_tourists[df_Origin_tourists['pays']!='AAA'].index)\n",
    "df_Origin_tourists = df_Origin_tourists.drop('pays', axis=1)\n",
    "\n",
    "\n",
    "# Find the columns of the totals of each year\n",
    "\n",
    "k=2007\n",
    "Index=[]\n",
    "c=0\n",
    "Index.append('continent')\n",
    "for i in df_Origin_tourists.columns : \n",
    "    v=str(k)\n",
    "    if i == \" \".join((v,'Total')) : \n",
    "        Index.append(i)\n",
    "    if c-13 == 0 :\n",
    "        k=k+1\n",
    "        c=0 \n",
    "    c=c+1\n",
    "    \n",
    "  \n",
    "# Selections des colonnes ou on regarde les totaux seulement \n",
    "df_Origin_tourists=df_Origin_tourists[Index]\n",
    "\n",
    "#Changement d'Index #(passage de 1,12,25... à 1,2,3,...)\n",
    "df_Origin_tourists.index=np.arange(len(df_Origin_tourists.index))\n",
    "\n",
    "\n",
    "L=[]\n",
    "for i in range (0, len(df_Origin_tourists.columns)):\n",
    "    if 'Total' in df_Origin_tourists.columns[i] :\n",
    "        L.append(df_Origin_tourists.columns[i].split(' ')[0])\n",
    "    else : \n",
    "        L.append(df_Origin_tourists.columns[i])\n",
    "df_Origin_tourists.columns = L\n",
    "\n",
    "\n",
    "#display(df_Origin_tourists.head(10))\n",
    "#display(df_tour.head(10))\n",
    "#df_Origin_tourists.to_csv('Cleaned_data/Origin_tourists_per_continent.csv')"
   ]
  },
  {
   "cell_type": "markdown",
   "id": "b45e37d5-4a6c-421d-99cb-14cbfeb3876a",
   "metadata": {
    "jp-MarkdownHeadingCollapsed": true,
    "tags": []
   },
   "source": [
    "#### c )Merge de \"econ1016.csv\" , \"Consommation_tourisme.xlsx\", \"PIB.xlsx\" "
   ]
  },
  {
   "cell_type": "code",
   "execution_count": null,
   "id": "7b54f347-f7f9-405a-a1fb-24c535bfec49",
   "metadata": {},
   "outputs": [],
   "source": [
    "#Data exportation.\n",
    "PATH = \"Data/econ1016.csv\" #data file\n",
    "df = pd.read_csv(PATH,sep = ';')\n",
    "\n",
    "# only keep the column \"Valeur Exports\"\n",
    "df_Export = df[['Date','Valeur Exports']]\n",
    "\n",
    "#year format instead of month\n",
    "Export=[]\n",
    "Date=[]\n",
    "for i in range (1,len(df_Export)):\n",
    "    \n",
    "    k=len(df_Export)- i\n",
    "    S=0\n",
    "    \n",
    "    if df_Export['Date'][k].split('-')[1] == df_Export['Date'][k].split('-')[2] == '01' :\n",
    "        Date.append(df_Export['Date'][k].split('-')[0])\n",
    "        for v in range (0,12):\n",
    "            \n",
    "            if df_Export['Date'][k-v].split('-')[0] == df_Export['Date'][k].split('-')[0] :\n",
    "                S += df_Export['Valeur Exports'][k-v]\n",
    "                \n",
    "            if k-v == 0 : \n",
    "                break\n",
    "                \n",
    "        Export.append(S)       \n",
    "Exp= pd.DataFrame(Export)\n",
    "Exp.insert(0, \"Date\", Date, allow_duplicates=False)\n",
    "Exp.rename(columns = {0:'Valeur Exports'}, inplace = True)\n",
    "\n",
    "#Tourisme data\n",
    "PATH = \"Data/Consommation_tourisme.xlsx\" #data file\n",
    "Tour = pd.read_excel(PATH)\n",
    "Tour=pd.DataFrame(Tour.T[9][3:10])\n",
    "Tour=Tour.reset_index()\n",
    "Tour.rename(columns = {'index':'Date'}, inplace = True)\n",
    "Tour.rename(columns = {9:'Tourisme'}, inplace = True)\n",
    "\n",
    "PATH = \"Data/PIB.xlsx\" #data file\n",
    "PIB = pd.read_excel(PATH)\n",
    "\n",
    "\n",
    "# change date format (2021-01-01 by 2020, etc...)\n",
    "Date=[]\n",
    "for i in range (0,len(PIB)):\n",
    "    k=len(PIB)-i-1\n",
    "    Date.append(PIB['Date'][k].split('-')[0])\n",
    "    \n",
    "PIB.drop('Date',axis=1,inplace=True)\n",
    "PIB.insert(0, \"Date\", Date, allow_duplicates=False)\n",
    "PIB=PIB[['Date',PIB.columns[2]]]\n",
    "\n",
    "##Merge : \n",
    "inner_merged_total = pd.merge(PIB, Exp,on=['Date'])\n",
    "inner_merged_total = pd.merge(inner_merged_total, Tour,on=['Date'])\n",
    "\n",
    "\n",
    "#inner_merged_total.to_csv('Cleaned_Data/PIB_EXP_TOUR.csv')\n",
    "#display(inner_merged_total)"
   ]
  }
 ],
 "metadata": {
  "kernelspec": {
   "display_name": "Python 3",
   "language": "python",
   "name": "python3"
  },
  "language_info": {
   "codemirror_mode": {
    "name": "ipython",
    "version": 3
   },
   "file_extension": ".py",
   "mimetype": "text/x-python",
   "name": "python",
   "nbconvert_exporter": "python",
   "pygments_lexer": "ipython3",
   "version": "3.9.12"
  }
 },
 "nbformat": 4,
 "nbformat_minor": 5
}
